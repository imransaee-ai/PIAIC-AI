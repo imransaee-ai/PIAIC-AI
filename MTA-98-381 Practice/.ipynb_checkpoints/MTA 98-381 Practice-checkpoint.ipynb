{
 "cells": [
  {
   "cell_type": "markdown",
   "metadata": {},
   "source": [
    "# MTA 98-381 QUESTIONS"
   ]
  },
  {
   "cell_type": "code",
   "execution_count": 1,
   "metadata": {},
   "outputs": [
    {
     "name": "stdout",
     "output_type": "stream",
     "text": [
      "False\n"
     ]
    }
   ],
   "source": [
    "numList =[0,1,2,3,4]\n",
    "print(5 in numList)"
   ]
  },
  {
   "cell_type": "code",
   "execution_count": 2,
   "metadata": {},
   "outputs": [
    {
     "data": {
      "text/plain": [
       "1"
      ]
     },
     "execution_count": 2,
     "metadata": {},
     "output_type": "execute_result"
    }
   ],
   "source": [
    "a = int(5/4)\n",
    "a"
   ]
  },
  {
   "cell_type": "code",
   "execution_count": 3,
   "metadata": {},
   "outputs": [
    {
     "data": {
      "text/plain": [
       "1.0"
      ]
     },
     "execution_count": 3,
     "metadata": {},
     "output_type": "execute_result"
    }
   ],
   "source": [
    "a = float(5//4)\n",
    "a"
   ]
  },
  {
   "cell_type": "code",
   "execution_count": 4,
   "metadata": {},
   "outputs": [
    {
     "data": {
      "text/plain": [
       "1"
      ]
     },
     "execution_count": 4,
     "metadata": {},
     "output_type": "execute_result"
    }
   ],
   "source": [
    "a = 5//4\n",
    "a"
   ]
  },
  {
   "cell_type": "code",
   "execution_count": 5,
   "metadata": {},
   "outputs": [
    {
     "data": {
      "text/plain": [
       "625"
      ]
     },
     "execution_count": 5,
     "metadata": {},
     "output_type": "execute_result"
    }
   ],
   "source": [
    "a = 5**4\n",
    "a"
   ]
  },
  {
   "cell_type": "markdown",
   "metadata": {},
   "source": [
    "- eval()\n",
    "- Eval function is mostly used in situations or applications which need to evaluate mathematical expressions.\n",
    "- Also if the user wants to evaluate the string into code then can use eval function, \n",
    "- because eval function evaluates the string expression and returns the integer as a result."
   ]
  },
  {
   "cell_type": "code",
   "execution_count": 6,
   "metadata": {},
   "outputs": [
    {
     "name": "stdout",
     "output_type": "stream",
     "text": [
      "Enter 1st no22\n",
      "Enter 2nd no1\n",
      "no 1 is GREATER then 2\n"
     ]
    }
   ],
   "source": [
    "n1 = eval(input(\"Enter 1st no\"))\n",
    "n2 = eval(input(\"Enter 2nd no\"))\n",
    "if n1 == n2:\n",
    "    print(\"The 2 nos r equal\")\n",
    "\n",
    "if n1 <= n2:\n",
    "    print(\"no 1 is less then no 2\")\n",
    "    \n",
    "if n1>n2:\n",
    "    print(\"no 1 is GREATER then 2\")\n",
    "if n2==n1:\n",
    "    print(\"same\")"
   ]
  },
  {
   "cell_type": "code",
   "execution_count": 7,
   "metadata": {},
   "outputs": [],
   "source": [
    "alph = \"abcdefghijklmnopqrstuvwxyz\"\n"
   ]
  },
  {
   "cell_type": "code",
   "execution_count": 8,
   "metadata": {},
   "outputs": [
    {
     "data": {
      "text/plain": [
       "'defghijklmno'"
      ]
     },
     "execution_count": 8,
     "metadata": {},
     "output_type": "execute_result"
    }
   ],
   "source": [
    "alph[3:15]"
   ]
  },
  {
   "cell_type": "code",
   "execution_count": 9,
   "metadata": {},
   "outputs": [
    {
     "data": {
      "text/plain": [
       "'dgjm'"
      ]
     },
     "execution_count": 9,
     "metadata": {},
     "output_type": "execute_result"
    }
   ],
   "source": [
    "alph[3:15:3]"
   ]
  },
  {
   "cell_type": "code",
   "execution_count": 10,
   "metadata": {},
   "outputs": [
    {
     "data": {
      "text/plain": [
       "''"
      ]
     },
     "execution_count": 10,
     "metadata": {},
     "output_type": "execute_result"
    }
   ],
   "source": [
    "alph[3:15:-3]"
   ]
  },
  {
   "cell_type": "code",
   "execution_count": 11,
   "metadata": {},
   "outputs": [
    {
     "data": {
      "text/plain": [
       "'pmjg'"
      ]
     },
     "execution_count": 11,
     "metadata": {},
     "output_type": "execute_result"
    }
   ],
   "source": [
    "alph[15:3:-3]"
   ]
  },
  {
   "cell_type": "code",
   "execution_count": 12,
   "metadata": {},
   "outputs": [
    {
     "data": {
      "text/plain": [
       "''"
      ]
     },
     "execution_count": 12,
     "metadata": {},
     "output_type": "execute_result"
    }
   ],
   "source": [
    "alph[15:3]"
   ]
  },
  {
   "cell_type": "code",
   "execution_count": 13,
   "metadata": {},
   "outputs": [
    {
     "data": {
      "text/plain": [
       "'zwtqnkheb'"
      ]
     },
     "execution_count": 13,
     "metadata": {},
     "output_type": "execute_result"
    }
   ],
   "source": [
    "alph[::-3]"
   ]
  },
  {
   "cell_type": "code",
   "execution_count": 14,
   "metadata": {},
   "outputs": [],
   "source": [
    "a = \"abcdefghijklmnopqrstuvwxyz\"\n"
   ]
  },
  {
   "cell_type": "code",
   "execution_count": 15,
   "metadata": {},
   "outputs": [
    {
     "data": {
      "text/plain": [
       "''"
      ]
     },
     "execution_count": 15,
     "metadata": {},
     "output_type": "execute_result"
    }
   ],
   "source": [
    "a[15:3]"
   ]
  },
  {
   "cell_type": "code",
   "execution_count": 51,
   "metadata": {},
   "outputs": [],
   "source": [
    "m=10\n",
    "s=5\n",
    "def get_discount(m , s):\n",
    "    d=0.1\n",
    "    if not (m and s):\n",
    "        d=0\n",
    "    return d"
   ]
  },
  {
   "cell_type": "code",
   "execution_count": 52,
   "metadata": {},
   "outputs": [
    {
     "data": {
      "text/plain": [
       "0.1"
      ]
     },
     "execution_count": 52,
     "metadata": {},
     "output_type": "execute_result"
    }
   ],
   "source": [
    "get_discount(1, 2)"
   ]
  },
  {
   "cell_type": "code",
   "execution_count": 53,
   "metadata": {},
   "outputs": [],
   "source": [
    "m=10\n",
    "s=5\n",
    "def get_discount(m=2, n=3):\n",
    "    d=0.1\n",
    "    if not (m and s):\n",
    "        d=0\n",
    "    return d"
   ]
  },
  {
   "cell_type": "code",
   "execution_count": 54,
   "metadata": {},
   "outputs": [
    {
     "data": {
      "text/plain": [
       "0.1"
      ]
     },
     "execution_count": 54,
     "metadata": {},
     "output_type": "execute_result"
    }
   ],
   "source": [
    "get_discount(4, 4)"
   ]
  },
  {
   "cell_type": "code",
   "execution_count": 55,
   "metadata": {},
   "outputs": [
    {
     "name": "stdout",
     "output_type": "stream",
     "text": [
      "config1\n",
      "config1config22\n",
      "config1\n"
     ]
    }
   ],
   "source": [
    "a = \"config1\"\n",
    "print(a)\n",
    "b = a\n",
    "a+=\"config22\"\n",
    "print(a)\n",
    "print(b)"
   ]
  },
  {
   "cell_type": "code",
   "execution_count": 56,
   "metadata": {},
   "outputs": [
    {
     "data": {
      "text/plain": [
       "False"
      ]
     },
     "execution_count": 56,
     "metadata": {},
     "output_type": "execute_result"
    }
   ],
   "source": [
    "bool(0)"
   ]
  },
  {
   "cell_type": "code",
   "execution_count": 57,
   "metadata": {},
   "outputs": [
    {
     "data": {
      "text/plain": [
       "True"
      ]
     },
     "execution_count": 57,
     "metadata": {},
     "output_type": "execute_result"
    }
   ],
   "source": [
    "bool(1)"
   ]
  },
  {
   "cell_type": "code",
   "execution_count": 58,
   "metadata": {},
   "outputs": [
    {
     "data": {
      "text/plain": [
       "True"
      ]
     },
     "execution_count": 58,
     "metadata": {},
     "output_type": "execute_result"
    }
   ],
   "source": [
    "bool(-3)"
   ]
  },
  {
   "cell_type": "code",
   "execution_count": 59,
   "metadata": {},
   "outputs": [
    {
     "data": {
      "text/plain": [
       "True"
      ]
     },
     "execution_count": 59,
     "metadata": {},
     "output_type": "execute_result"
    }
   ],
   "source": [
    "None is None"
   ]
  },
  {
   "cell_type": "code",
   "execution_count": 60,
   "metadata": {},
   "outputs": [
    {
     "data": {
      "text/plain": [
       "True"
      ]
     },
     "execution_count": 60,
     "metadata": {},
     "output_type": "execute_result"
    }
   ],
   "source": [
    "-5 < 0 < 5"
   ]
  },
  {
   "cell_type": "code",
   "execution_count": 61,
   "metadata": {},
   "outputs": [
    {
     "data": {
      "text/plain": [
       "5"
      ]
     },
     "execution_count": 61,
     "metadata": {},
     "output_type": "execute_result"
    }
   ],
   "source": [
    "0 or 5"
   ]
  },
  {
   "cell_type": "code",
   "execution_count": 62,
   "metadata": {},
   "outputs": [
    {
     "name": "stdout",
     "output_type": "stream",
     "text": [
      "Party\n",
      "Birthday\n",
      "Birthday\n",
      "Cake\n"
     ]
    }
   ],
   "source": [
    "x=4\n",
    "\n",
    "while x>=1:\n",
    "    if x%4==0:\n",
    "        print(\"Party\")\n",
    "    elif x-2<0:\n",
    "        print(\"Cake\")\n",
    "    elif x/3==0:\n",
    "        print(\"Greetings\")\n",
    "    else:\n",
    "        print(\"Birthday\")\n",
    "    x=x-1"
   ]
  },
  {
   "cell_type": "code",
   "execution_count": 64,
   "metadata": {},
   "outputs": [
    {
     "name": "stdout",
     "output_type": "stream",
     "text": [
      "Enter age3\n",
      "Enter year33\n",
      "<class 'str'>\n",
      "<class 'str'>\n"
     ]
    }
   ],
   "source": [
    "age = input(\"Enter age\")\n",
    "\n",
    "type(age)\n",
    "\n",
    "year = input(\"Enter year\")\n",
    "\n",
    "print(type(age))\n",
    "print(type(year))"
   ]
  },
  {
   "cell_type": "code",
   "execution_count": 65,
   "metadata": {},
   "outputs": [],
   "source": [
    "born = eval(year)- eval(age)"
   ]
  },
  {
   "cell_type": "code",
   "execution_count": 66,
   "metadata": {},
   "outputs": [
    {
     "data": {
      "text/plain": [
       "int"
      ]
     },
     "execution_count": 66,
     "metadata": {},
     "output_type": "execute_result"
    }
   ],
   "source": [
    "type(born) #int"
   ]
  },
  {
   "cell_type": "code",
   "execution_count": 67,
   "metadata": {},
   "outputs": [],
   "source": [
    "message = \"You were born in\"+ str(born)"
   ]
  },
  {
   "cell_type": "code",
   "execution_count": 68,
   "metadata": {},
   "outputs": [
    {
     "data": {
      "text/plain": [
       "str"
      ]
     },
     "execution_count": 68,
     "metadata": {},
     "output_type": "execute_result"
    }
   ],
   "source": [
    "type(message) #str"
   ]
  },
  {
   "cell_type": "code",
   "execution_count": 69,
   "metadata": {},
   "outputs": [
    {
     "name": "stdout",
     "output_type": "stream",
     "text": [
      "[1, 2, 3, 4, 1, 2, 3, 4, 1, 2, 3, 4]\n"
     ]
    }
   ],
   "source": [
    "a1 =[1,2]\n",
    "a2 = [3,4]\n",
    "a3 = a1 + a2\n",
    "a4 = a3 * 3\n",
    "print(a4)"
   ]
  },
  {
   "cell_type": "code",
   "execution_count": 70,
   "metadata": {},
   "outputs": [
    {
     "data": {
      "text/plain": [
       "[1, 3, 5, 7, 9]"
      ]
     },
     "execution_count": 70,
     "metadata": {},
     "output_type": "execute_result"
    }
   ],
   "source": [
    "colors = [1,2,3,4,5,6,7,8,9,10]\n",
    "colors[::2]"
   ]
  },
  {
   "cell_type": "code",
   "execution_count": 71,
   "metadata": {},
   "outputs": [
    {
     "name": "stdout",
     "output_type": "stream",
     "text": [
      "d=0\n"
     ]
    }
   ],
   "source": [
    "def safe_divide(n, d):\n",
    "    if n is None and d is None:\n",
    "        print(\"A req v missing\")\n",
    "    elif d==0:\n",
    "        print(\"d=0\")\n",
    "    else:\n",
    "        return n/d\n",
    "\n",
    "safe_divide(1,0)"
   ]
  },
  {
   "cell_type": "code",
   "execution_count": 72,
   "metadata": {
    "scrolled": true
   },
   "outputs": [
    {
     "name": "stdout",
     "output_type": "stream",
     "text": [
      "4 6 8 10 12 14 16 18 20 22 \n",
      "6 9 12 15 18 21 24 27 30 33 \n",
      "8 12 16 20 24 28 32 36 40 44 \n",
      "10 15 20 25 30 35 40 45 50 55 \n",
      "12 18 24 30 36 42 48 54 60 66 \n",
      "14 21 28 35 42 49 56 63 70 77 \n",
      "16 24 32 40 48 56 64 72 80 88 \n",
      "18 27 36 45 54 63 72 81 90 99 \n",
      "20 30 40 50 60 70 80 90 100 110 \n",
      "22 33 44 55 66 77 88 99 110 121 \n",
      "24 36 48 60 72 84 96 108 120 132 \n"
     ]
    }
   ],
   "source": [
    "def times_tables():\n",
    "    for col in range(2,13):\n",
    "#         for row in range(2,13):\n",
    "        for row in range(2,12,1):\n",
    "            print(row * col , end= \" \")\n",
    "        print()\n",
    "        \n",
    "times_tables()\n"
   ]
  },
  {
   "cell_type": "code",
   "execution_count": 73,
   "metadata": {},
   "outputs": [
    {
     "name": "stdout",
     "output_type": "stream",
     "text": [
      "12 x 1 = 12\n",
      "12 x 2 = 24\n",
      "12 x 3 = 36\n",
      "12 x 4 = 48\n",
      "12 x 5 = 60\n",
      "12 x 6 = 72\n",
      "12 x 7 = 84\n",
      "12 x 8 = 96\n",
      "12 x 9 = 108\n",
      "12 x 10 = 120\n"
     ]
    }
   ],
   "source": [
    "# Multiplication table (from 1 to 10) in Python\n",
    "\n",
    "num = 12\n",
    "\n",
    "# To take input from the user\n",
    "# num = int(input(\"Display multiplication table of? \"))\n",
    "\n",
    "# Iterate 10 times from i = 1 to 10\n",
    "for i in range(1, 11):\n",
    "   print(num, 'x', i, '=', num*i)"
   ]
  },
  {
   "cell_type": "code",
   "execution_count": 74,
   "metadata": {},
   "outputs": [
    {
     "name": "stdout",
     "output_type": "stream",
     "text": [
      "Enter no with 1 or 2 digit nos2\n"
     ]
    },
    {
     "data": {
      "text/plain": [
       "'1'"
      ]
     },
     "execution_count": 74,
     "metadata": {},
     "output_type": "execute_result"
    }
   ],
   "source": [
    "num = int(input(\"Enter no with 1 or 2 digit nos\"))\n",
    "digits = \"0\"\n",
    "if num> -10 and num< 10:\n",
    "    digits = \"1\"\n",
    "elif num>-100 and num<100:\n",
    "    digits= \"2\"\n",
    "# if num> -10 and num< 10:\n",
    "#     digits = \"1\"\n",
    "digits"
   ]
  },
  {
   "cell_type": "code",
   "execution_count": 75,
   "metadata": {},
   "outputs": [
    {
     "data": {
      "text/plain": [
       "False"
      ]
     },
     "execution_count": 75,
     "metadata": {},
     "output_type": "execute_result"
    }
   ],
   "source": [
    "None == 0"
   ]
  },
  {
   "cell_type": "code",
   "execution_count": 76,
   "metadata": {},
   "outputs": [
    {
     "name": "stdout",
     "output_type": "stream",
     "text": [
      "False\n"
     ]
    }
   ],
   "source": [
    "l=[1,2,3,4,5]\n",
    "alphaList =[\"a\",\"b\",\"c\", \"d\", \"e\"]\n",
    "# if l==alphaList:\n",
    "#     print(\"l=alphaList\")\n",
    "# else:\n",
    "#    print(\"l!=alphaList\") \n",
    "# l=alphaList\n",
    "print(l is alphaList)"
   ]
  },
  {
   "cell_type": "code",
   "execution_count": 77,
   "metadata": {},
   "outputs": [],
   "source": [
    "from random import randint"
   ]
  },
  {
   "cell_type": "code",
   "execution_count": 78,
   "metadata": {},
   "outputs": [
    {
     "name": "stdout",
     "output_type": "stream",
     "text": [
      "Guess an integer u ll hv 3 chances\n",
      "enter int3\n",
      "right guess\n"
     ]
    }
   ],
   "source": [
    "from random import randint\n",
    "target = randint(1,10)\n",
    "chance = 1\n",
    "print(\"Guess an integer u ll hv 3 chances\")\n",
    "while chance <= 3:\n",
    "    guess=int(input(\"enter int\"))\n",
    "    if guess>target:\n",
    "        print(\"g high\")\n",
    "    elif guess<target:\n",
    "        print(\"low\")\n",
    "    else:\n",
    "        print(\"right guess\")\n",
    "        break\n",
    "    chance+=1"
   ]
  },
  {
   "cell_type": "code",
   "execution_count": 79,
   "metadata": {},
   "outputs": [],
   "source": [
    "# list searching code full"
   ]
  },
  {
   "cell_type": "code",
   "execution_count": 80,
   "metadata": {},
   "outputs": [
    {
     "ename": "ZeroDivisionError",
     "evalue": "float division by zero",
     "output_type": "error",
     "traceback": [
      "\u001b[1;31m---------------------------------------------------------------------------\u001b[0m",
      "\u001b[1;31mZeroDivisionError\u001b[0m                         Traceback (most recent call last)",
      "\u001b[1;32m<ipython-input-80-8cea9a398bc4>\u001b[0m in \u001b[0;36m<module>\u001b[1;34m\u001b[0m\n\u001b[0;32m      4\u001b[0m \u001b[1;32mwhile\u001b[0m\u001b[1;33m(\u001b[0m\u001b[0mpower\u001b[0m\u001b[1;33m)\u001b[0m\u001b[1;33m:\u001b[0m\u001b[1;33m\u001b[0m\u001b[1;33m\u001b[0m\u001b[0m\n\u001b[0;32m      5\u001b[0m     \u001b[1;32mif\u001b[0m \u001b[0mmove\u001b[0m\u001b[1;33m==\u001b[0m\u001b[1;36m0\u001b[0m\u001b[1;33m:\u001b[0m\u001b[1;33m\u001b[0m\u001b[1;33m\u001b[0m\u001b[0m\n\u001b[1;32m----> 6\u001b[1;33m         \u001b[0mt\u001b[0m\u001b[1;33m=\u001b[0m\u001b[0mmath\u001b[0m\u001b[1;33m.\u001b[0m\u001b[0mpi\u001b[0m\u001b[1;33m/\u001b[0m\u001b[0mmove\u001b[0m\u001b[1;33m\u001b[0m\u001b[1;33m\u001b[0m\u001b[0m\n\u001b[0m\u001b[0;32m      7\u001b[0m         \u001b[0mmove\u001b[0m\u001b[1;33m+=\u001b[0m\u001b[1;36m5\u001b[0m\u001b[1;33m\u001b[0m\u001b[1;33m\u001b[0m\u001b[0m\n\u001b[0;32m      8\u001b[0m     \u001b[1;32melse\u001b[0m\u001b[1;33m:\u001b[0m\u001b[1;33m\u001b[0m\u001b[1;33m\u001b[0m\u001b[0m\n",
      "\u001b[1;31mZeroDivisionError\u001b[0m: float division by zero"
     ]
    }
   ],
   "source": [
    "import math\n",
    "power= True\n",
    "move=0\n",
    "while(power):\n",
    "    if move==0:\n",
    "        t=math.pi/move\n",
    "        move+=5\n",
    "    else:\n",
    "        t=0\n",
    "        move=0\n"
   ]
  },
  {
   "cell_type": "code",
   "execution_count": 81,
   "metadata": {},
   "outputs": [],
   "source": [
    "import random"
   ]
  },
  {
   "cell_type": "code",
   "execution_count": 82,
   "metadata": {},
   "outputs": [
    {
     "data": {
      "text/plain": [
       "0.7771060327615004"
      ]
     },
     "execution_count": 82,
     "metadata": {},
     "output_type": "execute_result"
    }
   ],
   "source": [
    "# random= \"\"\n",
    "random.random()"
   ]
  },
  {
   "cell_type": "code",
   "execution_count": 83,
   "metadata": {},
   "outputs": [
    {
     "name": "stdout",
     "output_type": "stream",
     "text": [
      "enter no2\n"
     ]
    }
   ],
   "source": [
    "while True:\n",
    "    try:\n",
    "        x=int(input(\"enter no\"))\n",
    "        break\n",
    "    except ValueError:\n",
    "        print(\"Not a valid no\")"
   ]
  },
  {
   "cell_type": "code",
   "execution_count": 84,
   "metadata": {},
   "outputs": [],
   "source": [
    "# /* RETURNS */\n",
    "def get_balance():\n",
    "    # Return the current balance of the account\n",
    "    return balance"
   ]
  },
  {
   "cell_type": "code",
   "execution_count": 85,
   "metadata": {},
   "outputs": [
    {
     "name": "stdout",
     "output_type": "stream",
     "text": [
      "95\n"
     ]
    }
   ],
   "source": [
    "from random import randrange\n",
    "print(randrange(5,105,5))"
   ]
  },
  {
   "cell_type": "code",
   "execution_count": 86,
   "metadata": {},
   "outputs": [
    {
     "name": "stdout",
     "output_type": "stream",
     "text": [
      "70\n"
     ]
    }
   ],
   "source": [
    "from random import randrange\n",
    "print(randrange(0,100,5))"
   ]
  },
  {
   "cell_type": "code",
   "execution_count": 87,
   "metadata": {},
   "outputs": [
    {
     "name": "stdout",
     "output_type": "stream",
     "text": [
      "45\n"
     ]
    }
   ],
   "source": [
    "from random import randint\n",
    "print(randint(0,20)*5)"
   ]
  },
  {
   "cell_type": "code",
   "execution_count": 88,
   "metadata": {},
   "outputs": [
    {
     "name": "stdout",
     "output_type": "stream",
     "text": [
      "45\n"
     ]
    }
   ],
   "source": [
    "from random import randint\n",
    "print(randint(1,20)*5)"
   ]
  },
  {
   "cell_type": "code",
   "execution_count": 89,
   "metadata": {},
   "outputs": [],
   "source": [
    "## ???\n",
    "\n",
    "def read_file(file):\n",
    "    line=None\n",
    "    if os.path.isfile(file):\n",
    "        data=open(file, \"r\")\n",
    "        for line in data:\n",
    "            print(line)"
   ]
  },
  {
   "cell_type": "code",
   "execution_count": 1,
   "metadata": {},
   "outputs": [],
   "source": [
    "import datetime\n",
    "\n",
    "# d = datetime.datetime(2017,4,7)\n",
    "# print(\"{:%B-%d-%y}\".format(d))\n",
    "# num=1234567.890\n",
    "# print(\"{:,.4f}\".format(num))"
   ]
  },
  {
   "cell_type": "code",
   "execution_count": null,
   "metadata": {},
   "outputs": [
    {
     "name": "stdout",
     "output_type": "stream",
     "text": [
      "enter emp_no (ddd-dd-dddd): 333-12-1234\n",
      "True\n",
      "enter emp_no (ddd-dd-dddd): 12341462672\n",
      "False\n"
     ]
    }
   ],
   "source": [
    "### QUESTION.1\n",
    "\n",
    "emp_no = \"\"\n",
    "# emp_no = 323322123\n",
    "parts = \"\"\n",
    "\n",
    "while emp_no!=\"sentinel\":\n",
    "    valid= False\n",
    "    emp_no = input(\"enter emp_no (ddd-dd-dddd): \")\n",
    "    parts = emp_no.split('-')\n",
    "\n",
    "    if len(parts) == 3:\n",
    "        if len(parts[0])==3 and len(parts[1])==2 and len(parts[2])==4:\n",
    "            if parts[0].isdigit() and parts[1].isdigit() and parts[2].isdigit():\n",
    "                valid= True\n",
    "    print(valid)"
   ]
  },
  {
   "cell_type": "code",
   "execution_count": 3,
   "metadata": {},
   "outputs": [],
   "source": [
    "import datetime"
   ]
  },
  {
   "cell_type": "code",
   "execution_count": 4,
   "metadata": {},
   "outputs": [
    {
     "name": "stdout",
     "output_type": "stream",
     "text": [
      "April-07-17\n",
      "1,234,567.8900\n"
     ]
    }
   ],
   "source": [
    "d = datetime.datetime(2017,4,7)\n",
    "print(\"{:%B-%d-%y}\".format(d))\n",
    "num=1234567.890\n",
    "print(\"{:,.4f}\".format(num))"
   ]
  },
  {
   "cell_type": "code",
   "execution_count": 5,
   "metadata": {},
   "outputs": [
    {
     "name": "stdout",
     "output_type": "stream",
     "text": [
      "item nameexam\n",
      "enter quantity5\n",
      "\"exam\",5\n",
      " \"exam\", 5 \n",
      "\"exam\",5\n"
     ]
    }
   ],
   "source": [
    "item = input(\"item name\")\n",
    "sales = input(\"enter quantity\")\n",
    "\n",
    "# print(item + \",\" + sales)\n",
    "\n",
    "print('\"' + item + '\",' + sales )\n",
    "\n",
    "print (' \"%s\", %s ' %(item, sales))\n",
    "\n",
    "# print(\"{0},{1}\".format(item,sales))\n",
    "\n",
    "print('\"{0}\",{1}'.format(item, sales))"
   ]
  },
  {
   "cell_type": "code",
   "execution_count": 8,
   "metadata": {},
   "outputs": [
    {
     "name": "stdout",
     "output_type": "stream",
     "text": [
      "nameabc\n",
      "scores: (-1 to end)-1\n"
     ]
    }
   ],
   "source": [
    "##\n",
    "\n",
    "name= input(\"name\")\n",
    "\n",
    "score = 0\n",
    "count = 0\n",
    "sum = 0\n",
    "while (score!= -1):\n",
    "    score= int(input(\"scores: (-1 to end)\"))\n",
    "    if score== -1:\n",
    "        break\n",
    "    sum+= score\n",
    "    count+=1\n",
    "    avg= sum/count\n",
    "    \n",
    "    print(\" , your avg score is:  \"%(name, avg))"
   ]
  },
  {
   "cell_type": "code",
   "execution_count": 10,
   "metadata": {},
   "outputs": [],
   "source": [
    "# if af(a,s):\n",
    "#     rate=0\n",
    "#     if a>=5 and s==True:\n",
    "#         rate=10\n",
    "#     elif a>=5 and s==True:"
   ]
  },
  {
   "cell_type": "code",
   "execution_count": 11,
   "metadata": {},
   "outputs": [],
   "source": [
    "def s(it,t):\n",
    "    for i in range(len(it)):\n",
    "        if it==t:\n",
    "            print(\"f\")\n",
    "            break\n",
    "        else:\n",
    "            print(\"N\")"
   ]
  },
  {
   "cell_type": "code",
   "execution_count": 12,
   "metadata": {},
   "outputs": [
    {
     "name": "stdout",
     "output_type": "stream",
     "text": [
      "N\n",
      "N\n",
      "N\n"
     ]
    }
   ],
   "source": [
    "s([1,\"123\",3], \"123\")"
   ]
  },
  {
   "cell_type": "code",
   "execution_count": 13,
   "metadata": {},
   "outputs": [],
   "source": [
    " ## CHECKKK\n",
    "\n",
    "sl = [151000, 150]\n",
    "for i in range(len(sl)):\n",
    "    if sl[i]>=150000:\n",
    "        continue\n",
    "#         exit()\n",
    "#         break\n",
    "#         end\n",
    "    sl[i]=(sl[i]*1.03) +500\n",
    "    "
   ]
  },
  {
   "cell_type": "code",
   "execution_count": 14,
   "metadata": {},
   "outputs": [],
   "source": [
    "def a(g):\n",
    "    if g<13:\n",
    "        r=\"c\"\n",
    "    elif g<18:\n",
    "        r=\"t\"\n",
    "    elif g==None:\n",
    "        r=\"C\"\n",
    "    else:\n",
    "        r=\"A\"\n",
    "    return r   "
   ]
  },
  {
   "cell_type": "code",
   "execution_count": 15,
   "metadata": {},
   "outputs": [
    {
     "data": {
      "text/plain": [
       "'t'"
      ]
     },
     "execution_count": 15,
     "metadata": {},
     "output_type": "execute_result"
    }
   ],
   "source": [
    "a(15)"
   ]
  },
  {
   "cell_type": "code",
   "execution_count": 16,
   "metadata": {},
   "outputs": [
    {
     "name": "stdout",
     "output_type": "stream",
     "text": [
      "90\n",
      "A\n"
     ]
    }
   ],
   "source": [
    "g = int(input())\n",
    "if g>=90:\n",
    "    print(\"A\")\n",
    "elif g>=80:\n",
    "    print(\"B\")\n",
    "elif g>=70:\n",
    "    print(\"C\")\n",
    "elif g>=65:\n",
    "    print(\"D\")\n",
    "else:\n",
    "    print(\"F\")\n"
   ]
  },
  {
   "cell_type": "code",
   "execution_count": 1,
   "metadata": {},
   "outputs": [],
   "source": [
    "# p=2\n",
    "# # is_prime=True\n",
    "# while p<=100:\n",
    "#     is_prime=True\n",
    "#     for i in range(2,p):\n",
    "#         if p%i==0:\n",
    "#             pp=False\n",
    "#             break\n",
    "#         if is_prime==True:\n",
    "#             print(p)\n",
    "#         p=p+1"
   ]
  },
  {
   "cell_type": "code",
   "execution_count": 2,
   "metadata": {},
   "outputs": [
    {
     "name": "stdout",
     "output_type": "stream",
     "text": [
      "<class 'int'>\n",
      "<class 'str'>\n"
     ]
    }
   ],
   "source": [
    "a = {1: \"fl\", 2:\"cr\"}\n",
    "type(a)\n",
    "print(type(1))\n",
    "print(type(\"fy\"))"
   ]
  },
  {
   "cell_type": "code",
   "execution_count": 3,
   "metadata": {},
   "outputs": [],
   "source": [
    "if not 1 in a:\n",
    "    print(\"a\")"
   ]
  },
  {
   "cell_type": "code",
   "execution_count": 4,
   "metadata": {
    "scrolled": true
   },
   "outputs": [
    {
     "name": "stdout",
     "output_type": "stream",
     "text": [
      "2.5\n"
     ]
    },
    {
     "data": {
      "text/plain": [
       "float"
      ]
     },
     "execution_count": 4,
     "metadata": {},
     "output_type": "execute_result"
    }
   ],
   "source": [
    "x=2.5\n",
    "y=1\n",
    "\n",
    "b= x*y\n",
    "print(b)\n",
    "type(b)"
   ]
  },
  {
   "cell_type": "code",
   "execution_count": 5,
   "metadata": {},
   "outputs": [
    {
     "name": "stdout",
     "output_type": "stream",
     "text": [
      "2.5\n"
     ]
    },
    {
     "data": {
      "text/plain": [
       "float"
      ]
     },
     "execution_count": 5,
     "metadata": {},
     "output_type": "execute_result"
    }
   ],
   "source": [
    "c=x/y\n",
    "print(b)\n",
    "type(c)"
   ]
  },
  {
   "cell_type": "code",
   "execution_count": 6,
   "metadata": {},
   "outputs": [
    {
     "name": "stdout",
     "output_type": "stream",
     "text": [
      "202020\n"
     ]
    },
    {
     "data": {
      "text/plain": [
       "str"
      ]
     },
     "execution_count": 6,
     "metadata": {},
     "output_type": "execute_result"
    }
   ],
   "source": [
    "a=\"20\"*3\n",
    "print(a)\n",
    "type(a)"
   ]
  },
  {
   "cell_type": "code",
   "execution_count": 7,
   "metadata": {},
   "outputs": [
    {
     "data": {
      "text/plain": [
       "float"
      ]
     },
     "execution_count": 7,
     "metadata": {},
     "output_type": "execute_result"
    }
   ],
   "source": [
    "type(+1e10)"
   ]
  },
  {
   "cell_type": "code",
   "execution_count": 8,
   "metadata": {},
   "outputs": [
    {
     "data": {
      "text/plain": [
       "float"
      ]
     },
     "execution_count": 8,
     "metadata": {},
     "output_type": "execute_result"
    }
   ],
   "source": [
    "type(5.0)"
   ]
  },
  {
   "cell_type": "code",
   "execution_count": 9,
   "metadata": {},
   "outputs": [
    {
     "name": "stdout",
     "output_type": "stream",
     "text": [
      "10\n",
      "20\n",
      "congo on 10 years!\n"
     ]
    }
   ],
   "source": [
    "s=input()\n",
    "e=input()\n",
    "print(\"congo on \" + str(int(e)-int(s)) + \" years!\")"
   ]
  },
  {
   "cell_type": "code",
   "execution_count": 10,
   "metadata": {},
   "outputs": [
    {
     "data": {
      "text/plain": [
       "3"
      ]
     },
     "execution_count": 10,
     "metadata": {},
     "output_type": "execute_result"
    }
   ],
   "source": [
    "a=11\n",
    "b=4\n",
    "a%b"
   ]
  },
  {
   "cell_type": "code",
   "execution_count": 11,
   "metadata": {},
   "outputs": [
    {
     "data": {
      "text/plain": [
       "2.75"
      ]
     },
     "execution_count": 11,
     "metadata": {},
     "output_type": "execute_result"
    }
   ],
   "source": [
    "a/b"
   ]
  },
  {
   "cell_type": "code",
   "execution_count": 12,
   "metadata": {},
   "outputs": [
    {
     "data": {
      "text/plain": [
       "2"
      ]
     },
     "execution_count": 12,
     "metadata": {},
     "output_type": "execute_result"
    }
   ],
   "source": [
    "a//b"
   ]
  },
  {
   "cell_type": "code",
   "execution_count": 13,
   "metadata": {},
   "outputs": [
    {
     "data": {
      "text/plain": [
       "15"
      ]
     },
     "execution_count": 13,
     "metadata": {},
     "output_type": "execute_result"
    }
   ],
   "source": [
    "(3*(1+2)**2-(2**2)*3)"
   ]
  },
  {
   "cell_type": "code",
   "execution_count": 14,
   "metadata": {},
   "outputs": [
    {
     "name": "stdout",
     "output_type": "stream",
     "text": [
      "abc\n",
      "abc\n"
     ]
    }
   ],
   "source": [
    "name=input()\n",
    "print(name)"
   ]
  },
  {
   "cell_type": "code",
   "execution_count": 15,
   "metadata": {},
   "outputs": [],
   "source": [
    "emp_no = \"\"\n",
    "# emp_no = 323322123\n",
    "parts = \"\"\n",
    "\n",
    "while emp_no!=\"\":\n",
    "\n",
    "    v= False\n",
    "    emp_no = input(\"enter emp_no (ddd-dd-dddd): \")\n",
    "    parts = emp_no.split('-')\n",
    "\n",
    "    if len(parts) == 3:\n",
    "        if len(parts[0])==3 and len(parts[1])==2 and len(parts[2])==4:\n",
    "            if parts[0].isdigit() and parts[1].isdigit() and parts[2].isdigit():\n",
    "                v= True\n",
    "            print(v)"
   ]
  },
  {
   "cell_type": "code",
   "execution_count": 17,
   "metadata": {},
   "outputs": [],
   "source": [
    "def safe_root(a, b):\n",
    "    if a>=0:\n",
    "        ans= a**(1/b)\n",
    "    else:\n",
    "        if a%2==0:\n",
    "            ans=\"result is imaginary no\"\n",
    "                \n",
    "        else:\n",
    "            ans=-(-a)**(1/b)\n",
    "    return ans"
   ]
  },
  {
   "cell_type": "code",
   "execution_count": 18,
   "metadata": {},
   "outputs": [
    {
     "data": {
      "text/plain": [
       "-3.0"
      ]
     },
     "execution_count": 18,
     "metadata": {},
     "output_type": "execute_result"
    }
   ],
   "source": [
    "safe_root(-3,1)"
   ]
  },
  {
   "cell_type": "code",
   "execution_count": 19,
   "metadata": {},
   "outputs": [],
   "source": [
    "# def safe_root(a, b):\n",
    "#     if a%2==0:\n",
    "#         ans= a**(1/b)\n",
    "#     else:\n",
    "#         if a>=0:\n",
    "#             ans=\"result is imaginary no\"\n",
    "                \n",
    "#         else:\n",
    "#             ans=-(-a)**(1/b)\n",
    "#     return ans"
   ]
  },
  {
   "cell_type": "code",
   "execution_count": 20,
   "metadata": {},
   "outputs": [
    {
     "data": {
      "text/plain": [
       "4.0"
      ]
     },
     "execution_count": 20,
     "metadata": {},
     "output_type": "execute_result"
    }
   ],
   "source": [
    "safe_root(4,1)"
   ]
  },
  {
   "cell_type": "code",
   "execution_count": 21,
   "metadata": {},
   "outputs": [
    {
     "name": "stdout",
     "output_type": "stream",
     "text": [
      "3\n",
      "5\n",
      "5\n",
      "5\n",
      "7\n",
      "7\n",
      "7\n",
      "7\n",
      "7\n",
      "9\n"
     ]
    }
   ],
   "source": [
    "p=2\n",
    "\n",
    "while p<=10:\n",
    "    is_prime=True\n",
    "    for i in range(2,p):\n",
    "        if p%i==0:\n",
    "            ip=False\n",
    "            break\n",
    "        if is_prime==True:\n",
    "            print(p)\n",
    "    p=p+1"
   ]
  },
  {
   "cell_type": "code",
   "execution_count": 22,
   "metadata": {},
   "outputs": [
    {
     "name": "stdout",
     "output_type": "stream",
     "text": [
      "0 is NOT a prime number\n"
     ]
    }
   ],
   "source": [
    "# Python program to check if \n",
    "# given number is prime or not \n",
    "\n",
    "num = 0\n",
    "\n",
    "# If given number is greater than 1 \n",
    "if num > 1: \n",
    "\n",
    "# Iterate from 2 to n / 2 \n",
    "    for i in range(2, num//2): \n",
    "\n",
    "# If num is divisible by any number between \n",
    "# 2 and n / 2, it is not prime \n",
    "        if (num % i) == 0: \n",
    "            print(num, \"is NOT a prime number\") \n",
    "            break\n",
    "    else: \n",
    "        print(num, \"is a prime number\") \n",
    "\n",
    "else: \n",
    "    print(num, \"is NOT a prime number\") \n"
   ]
  },
  {
   "cell_type": "code",
   "execution_count": 23,
   "metadata": {},
   "outputs": [
    {
     "name": "stdout",
     "output_type": "stream",
     "text": [
      "Enter room no\n"
     ]
    },
    {
     "ename": "ValueError",
     "evalue": "invalid literal for int() with base 10: ''",
     "output_type": "error",
     "traceback": [
      "\u001b[1;31m---------------------------------------------------------------------------\u001b[0m",
      "\u001b[1;31mValueError\u001b[0m                                Traceback (most recent call last)",
      "\u001b[1;32m<ipython-input-23-307235605e8e>\u001b[0m in \u001b[0;36m<module>\u001b[1;34m\u001b[0m\n\u001b[0;32m      1\u001b[0m \u001b[0mrooms\u001b[0m \u001b[1;33m=\u001b[0m \u001b[1;33m{\u001b[0m\u001b[1;36m1\u001b[0m\u001b[1;33m:\u001b[0m \u001b[1;34m\"flyer\"\u001b[0m\u001b[1;33m,\u001b[0m \u001b[1;36m2\u001b[0m\u001b[1;33m:\u001b[0m\u001b[1;34m\"waq\"\u001b[0m\u001b[1;33m}\u001b[0m\u001b[1;33m\u001b[0m\u001b[1;33m\u001b[0m\u001b[0m\n\u001b[1;32m----> 2\u001b[1;33m \u001b[0mroom\u001b[0m \u001b[1;33m=\u001b[0m \u001b[0mint\u001b[0m\u001b[1;33m(\u001b[0m\u001b[0minput\u001b[0m\u001b[1;33m(\u001b[0m\u001b[1;34m\"Enter room no\"\u001b[0m\u001b[1;33m)\u001b[0m\u001b[1;33m)\u001b[0m   \u001b[1;31m# here not int was mentioned!! i did it!\u001b[0m\u001b[1;33m\u001b[0m\u001b[1;33m\u001b[0m\u001b[0m\n\u001b[0m\u001b[0;32m      3\u001b[0m \u001b[1;33m\u001b[0m\u001b[0m\n\u001b[0;32m      4\u001b[0m \u001b[1;32mif\u001b[0m \u001b[1;32mnot\u001b[0m \u001b[0mroom\u001b[0m \u001b[1;32min\u001b[0m \u001b[0mrooms\u001b[0m\u001b[1;33m:\u001b[0m\u001b[1;33m\u001b[0m\u001b[1;33m\u001b[0m\u001b[0m\n\u001b[0;32m      5\u001b[0m     \u001b[0mprint\u001b[0m\u001b[1;33m(\u001b[0m\u001b[1;34m\"Room does not exist\"\u001b[0m\u001b[1;33m)\u001b[0m\u001b[1;33m\u001b[0m\u001b[1;33m\u001b[0m\u001b[0m\n",
      "\u001b[1;31mValueError\u001b[0m: invalid literal for int() with base 10: ''"
     ]
    }
   ],
   "source": [
    "rooms = {1: \"flyer\", 2:\"waq\"}\n",
    "room = int(input(\"Enter room no\"))   # here not int was mentioned!! i did it!\n",
    "\n",
    "if not room in rooms:\n",
    "    print(\"Room does not exist\")\n",
    "else:\n",
    "    print(\"The room name is \"+rooms [room])\n",
    "    \n",
    "## Mismached data types is answer\n"
   ]
  },
  {
   "cell_type": "code",
   "execution_count": null,
   "metadata": {},
   "outputs": [],
   "source": []
  },
  {
   "cell_type": "code",
   "execution_count": 31,
   "metadata": {},
   "outputs": [
    {
     "name": "stdout",
     "output_type": "stream",
     "text": [
      "was video returnde before 8pm\n",
      "how many days video is rented3\n",
      "What day was the video rentedThursday\n",
      "4.7700000000000005\n"
     ]
    }
   ],
   "source": [
    "### Have to solve!!\n",
    "\n",
    "ontime = input(\"was video returnde before 8pm\").lower()\n",
    "\n",
    "days_returned = int(input(\"how many days video is rented\"))\n",
    "\n",
    "day_rented= input(\"What day was the video rented\").capitalize()\n",
    "\n",
    "cost_per_day = 1.59\n",
    "\n",
    "if ontime ==\"n\": #\n",
    "    days_returned+=1\n",
    "    \n",
    "if days_returned== \"Sunday\":#\n",
    "    total=(days_returned*cost_per_day)* .7\n",
    "    \n",
    "elif days_returned==\"Thursday\":#\n",
    "    total=(days_returned*cost_per_day)* .5\n",
    "    \n",
    "    \n",
    "else:\n",
    "    total=days_returned*cost_per_day\n",
    "    \n",
    "print(total)\n",
    "    "
   ]
  },
  {
   "cell_type": "code",
   "execution_count": 36,
   "metadata": {},
   "outputs": [
    {
     "name": "stdout",
     "output_type": "stream",
     "text": [
      "How many miles did you bike this week? 100\n",
      "What is your nameWaqar\n",
      "Waqar burn about 5000 Calories\n"
     ]
    }
   ],
   "source": [
    "def get_name():\n",
    "    n= input(\"What is your name\")\n",
    "    return n\n",
    "\n",
    "def calories(miles, cal_per_mile):\n",
    "    cal = miles * cal_per_mile\n",
    "    return cal\n",
    "\n",
    "d = int(input(\"How many miles did you bike this week? \"))\n",
    "\n",
    "burn_rate= 50\n",
    "\n",
    "biker= get_name()\n",
    "\n",
    "cal_burnded = calories(d, burn_rate)\n",
    "\n",
    "print(biker, \"burn about\",cal_burnded, \"Calories\")\n"
   ]
  },
  {
   "cell_type": "code",
   "execution_count": 37,
   "metadata": {},
   "outputs": [],
   "source": [
    "import os\n",
    "def rf(file):\n",
    "    l=None\n",
    "    if os.path.isfile(file):\n",
    "        date=open(file, \"r\")\n",
    "        while l != \"\":\n",
    "            l=date.readline()\n",
    "            print(l)"
   ]
  },
  {
   "cell_type": "code",
   "execution_count": 38,
   "metadata": {},
   "outputs": [
    {
     "name": "stdout",
     "output_type": "stream",
     "text": [
      "Enter next rating(1-5), -1 for done3\n",
      "The avg star rat for the new coffee is 0.00\n",
      "Enter next rating(1-5), -1 for done6\n",
      "The avg star rat for the new coffee is 0.00\n",
      "Enter next rating(1-5), -1 for done-1\n"
     ]
    }
   ],
   "source": [
    "s = c = d = 0\n",
    "avg = 0.0\n",
    "\n",
    "while(d!=-1):\n",
    "    rating = float(input(\"Enter next rating(1-5), -1 for done\"))\n",
    "    if rating == -1:\n",
    "        break\n",
    "        s+= rating\n",
    "        c+=1\n",
    "    \n",
    "        avg=float(s/c)\n",
    "    \n",
    "#     print(\"The avg star rat for the new coffee is \" + format(avg, '.2d'))\n",
    "    \n",
    "    print(\"The avg star rat for the new coffee is \" + format(avg, '.2f'))\n",
    "    \n",
    "#     print(\"The avg star rat for the new coffee is \" + {avg, '.2f'})\n",
    "    \n",
    "#     print(\"The avg star rat for the new coffee is \" + format.avg.{2d})"
   ]
  },
  {
   "cell_type": "code",
   "execution_count": 40,
   "metadata": {},
   "outputs": [
    {
     "name": "stdout",
     "output_type": "stream",
     "text": [
      "enter distance travelled in feet3\n",
      "time in seconds2\n",
      "avg velocity: 1.0227272727272727 m/h\n"
     ]
    }
   ],
   "source": [
    "# Speed calculator\n",
    "# Question of 2 Types...1) if precise 1 output 2) not precise 1 output\n",
    "d= int(input(\"enter distance travelled in feet\"))\n",
    "distance_miles= d/5280\n",
    "time= int(input(\"time in seconds\"))\n",
    "\n",
    "th = time/3600\n",
    "\n",
    "v= distance_miles/th\n",
    "\n",
    "print(\"avg velocity:\", v , \"m/h\")"
   ]
  },
  {
   "cell_type": "code",
   "execution_count": 41,
   "metadata": {},
   "outputs": [],
   "source": [
    "a=10\n",
    "b= (-a)**2"
   ]
  },
  {
   "cell_type": "code",
   "execution_count": 42,
   "metadata": {},
   "outputs": [
    {
     "data": {
      "text/plain": [
       "100"
      ]
     },
     "execution_count": 42,
     "metadata": {},
     "output_type": "execute_result"
    }
   ],
   "source": [
    "b"
   ]
  }
 ],
 "metadata": {
  "kernelspec": {
   "display_name": "Python 3",
   "language": "python",
   "name": "python3"
  },
  "language_info": {
   "codemirror_mode": {
    "name": "ipython",
    "version": 3
   },
   "file_extension": ".py",
   "mimetype": "text/x-python",
   "name": "python",
   "nbconvert_exporter": "python",
   "pygments_lexer": "ipython3",
   "version": "3.7.4"
  }
 },
 "nbformat": 4,
 "nbformat_minor": 2
}
