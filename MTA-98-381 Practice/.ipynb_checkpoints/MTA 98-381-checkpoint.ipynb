{
 "cells": [
  {
   "cell_type": "markdown",
   "metadata": {},
   "source": [
    "<b>1. DATETIME Practice For MTA 98-381</b>"
   ]
  },
  {
   "cell_type": "code",
   "execution_count": 6,
   "metadata": {},
   "outputs": [
    {
     "name": "stdout",
     "output_type": "stream",
     "text": [
      "2020-06-01\n"
     ]
    }
   ],
   "source": [
    "#The import statement gives us access to  \n",
    "#the functionality of the datetime class \n",
    "import datetime\n",
    "#today is a function that returns today's date \n",
    "print(datetime.date.today())\n"
   ]
  },
  {
   "cell_type": "code",
   "execution_count": 2,
   "metadata": {},
   "outputs": [
    {
     "name": "stdout",
     "output_type": "stream",
     "text": [
      "2020-06-01\n"
     ]
    }
   ],
   "source": [
    "# import datetime \n",
    "\n",
    "#store the value in a variable called currentDate \n",
    "currentDate=datetime.date.today()\n",
    "print(currentDate)\n"
   ]
  },
  {
   "cell_type": "code",
   "execution_count": 3,
   "metadata": {},
   "outputs": [
    {
     "name": "stdout",
     "output_type": "stream",
     "text": [
      "2020-06-01\n",
      "2020\n",
      "6\n",
      "1\n"
     ]
    }
   ],
   "source": [
    "# import datetime \n",
    "currentDate=datetime.date.today() \n",
    "print(currentDate) \n",
    "print(currentDate.year) \n",
    "print(currentDate.month) \n",
    "print(currentDate.day)\n"
   ]
  },
  {
   "cell_type": "code",
   "execution_count": 5,
   "metadata": {},
   "outputs": [
    {
     "name": "stdout",
     "output_type": "stream",
     "text": [
      "21 Mar,2020\n",
      "Saturday 21 Mar,2020\n"
     ]
    }
   ],
   "source": [
    "\n",
    "currentDate=datetime.date.today() \n",
    "#strftime allows you to specify the date format \n",
    "print(currentDate.strftime('%d %b,%Y'))\n",
    "print(currentDate.strftime('%A %d %b,%Y'))\n"
   ]
  },
  {
   "cell_type": "code",
   "execution_count": 6,
   "metadata": {},
   "outputs": [],
   "source": [
    "# %d is the day of the month\n",
    "# %b is the abbreviation for the month\n",
    "# %Y is the 4 digit year\n",
    "\n",
    "# %b is the month abbreviation\n",
    "# %B is the full month name\n",
    "# %y is two digit year\n",
    "# %a is the day of the week abbreviated\n",
    "# %A is the day of the week\n",
    "\n",
    "# For a full list visit strftime.orgstrftime.org\n"
   ]
  },
  {
   "cell_type": "code",
   "execution_count": 7,
   "metadata": {},
   "outputs": [
    {
     "name": "stdout",
     "output_type": "stream",
     "text": [
      "Please attend our event Saturday, March 21 in the year 2020\n"
     ]
    }
   ],
   "source": [
    "import datetime\n",
    "currentDate=datetime.date.today() \n",
    "#strftime allows you to specify the date format \n",
    "print(currentDate.strftime\n",
    "('Please attend our event %A, %B %d in the year %Y'))\n"
   ]
  },
  {
   "cell_type": "code",
   "execution_count": 8,
   "metadata": {},
   "outputs": [],
   "source": [
    "# So… what if I don’t want English?\n",
    "# In programmer speak we call that localization\n",
    "# Did I mention working with dates can be challenging?\n",
    "# By default the program uses the language of the machine where it is running\n",
    "# But… since you can’t always rely on computer settings it is possible to force Python to use a particular language\n",
    "# It just takes more time and more code. We won’t go into that now, but if you need to do it check out the babel Python library http://babel.pocoo.org/http://babel.pocoo.org/\n"
   ]
  },
  {
   "cell_type": "code",
   "execution_count": 10,
   "metadata": {},
   "outputs": [
    {
     "name": "stdout",
     "output_type": "stream",
     "text": [
      "What is your birthday? 123\n",
      "Your birthday is 123\n"
     ]
    }
   ],
   "source": [
    "# Let’s get back to calculating days until your birthday,#I need to ask your birthday.\n",
    "birthday=input(\"What is your birthday? \") \n",
    "print(\"Your birthday is \"+birthday)\n",
    "# What datatype is birthday?\n",
    "\n",
    "# string\n",
    "\n",
    "# if we want to treat it like a date (for example use the datetime functions to print it in a particular format) we must convert it to a date"
   ]
  },
  {
   "cell_type": "code",
   "execution_count": 11,
   "metadata": {},
   "outputs": [],
   "source": [
    "# The strptime function allows you to convert a string to a date\n",
    "\n",
    "# import datetime \n",
    "# birthday = input (\"What is your birthday? \") \n",
    "# birthdate = \n",
    "# datetime.datetime.strptime(birthday,\"%m/%d/%Y\").date() \n",
    "# #why did we list datetime twice?  \n",
    "# #because we are calling the strptime function \n",
    "# #which is part of the datetime class \n",
    "# #which is in the datetime module \n",
    "# print (\"Your birth month is \" + birthdate.strftime('%B')) \n"
   ]
  },
  {
   "cell_type": "code",
   "execution_count": 15,
   "metadata": {},
   "outputs": [
    {
     "name": "stdout",
     "output_type": "stream",
     "text": [
      "What is your birthday? 09/30/2019\n",
      "Your birth month is September\n"
     ]
    }
   ],
   "source": [
    "# import datetime \n",
    "birthday=input(\"What is your birthday? \") \n",
    "birthdate=datetime.datetime.strptime(birthday,\"%m/%d/%Y\").date() \n",
    "#why did we list datetime twice?  \n",
    "#because we are calling the strptime function \n",
    "#which is part of the datetime class \n",
    "#which is in the datetime module \n",
    "print(\"Your birth month is \"+birthdate.strftime('%B')) \n"
   ]
  },
  {
   "cell_type": "code",
   "execution_count": 11,
   "metadata": {},
   "outputs": [
    {
     "name": "stdout",
     "output_type": "stream",
     "text": [
      "What is your birthday? (mm/dd/yyyy) 09/20/2020\n"
     ]
    }
   ],
   "source": [
    "# But what if the user doesn’t enter the date in the format I specify in strptime?\n",
    "birthdate=datetime.datetime.strptime(birthday,\"%m/%d/%Y\") \n",
    "\n",
    "# Your code will crash so…\n",
    "# Tell the user the date format you want\n",
    "birthday=input(\"What is your birthday? (mm/dd/yyyy) \") \n",
    " \n"
   ]
  },
  {
   "cell_type": "code",
   "execution_count": 8,
   "metadata": {},
   "outputs": [
    {
     "name": "stdout",
     "output_type": "stream",
     "text": [
      "560\n",
      "560 days, 0:00:00\n"
     ]
    }
   ],
   "source": [
    "# You can create a countdown to say how many days until a big event or holiday\n",
    "nextBirthday=datetime.datetime.strptime('09/30/2021','%m/%d/%Y').date()\n",
    "currentDate=datetime.date.today() \n",
    "#If you subtract two dates you get back the number of days \n",
    "#between those dates\n",
    "difference=nextBirthday-currentDate\n",
    "print(difference.days)\n",
    "print(difference)#"
   ]
  },
  {
   "cell_type": "code",
   "execution_count": 13,
   "metadata": {},
   "outputs": [
    {
     "name": "stdout",
     "output_type": "stream",
     "text": [
      "2020-04-03\n",
      "2020-03-19\n",
      "2020-03-19\n"
     ]
    }
   ],
   "source": [
    "# Dates seem like a lot of hassle, is it worth it? Why not just store them as strings!\n",
    "# You can tell someone when the milk in their fridge will expire\n",
    "\n",
    "currentDate=datetime.date.today() \n",
    "todayDate=datetime.date.today()\n",
    "\n",
    "#timedelta allows you to specify the time \n",
    "#to add or subtract from a date \n",
    "\n",
    "print(currentDate+datetime.timedelta(days=15)) \n",
    "print(currentDate+datetime.timedelta(hours=15))\n",
    "print(todayDate)"
   ]
  },
  {
   "cell_type": "code",
   "execution_count": 21,
   "metadata": {},
   "outputs": [],
   "source": [
    "# You will be amazed how often you need to work with dates! \n",
    "# If datetime doesn’t have what you need, check out the dateutil library\n",
    "#(for example you might want to know the number of years between two dates instead of number of days)"
   ]
  },
  {
   "cell_type": "code",
   "execution_count": 14,
   "metadata": {},
   "outputs": [
    {
     "name": "stdout",
     "output_type": "stream",
     "text": [
      "2020-03-19 07:35:58.632425\n",
      "7\n",
      "35\n",
      "58\n"
     ]
    }
   ],
   "source": [
    "# What about times?\n",
    "# It is called Datetime, so yes, it can store times.\n",
    "\n",
    "currentTime=datetime.datetime.now()\n",
    "print(currentTime) \n",
    "print(currentTime.hour) \n",
    "print(currentTime.minute)\n",
    "print(currentTime.second)"
   ]
  },
  {
   "cell_type": "code",
   "execution_count": 12,
   "metadata": {},
   "outputs": [
    {
     "name": "stdout",
     "output_type": "stream",
     "text": [
      "09:27\n"
     ]
    }
   ],
   "source": [
    "# Just like with dates you can use # strftime() # to format the way a time is displayed\n",
    "# import datetime \n",
    "currentTime=datetime.datetime.now() \n",
    "print(datetime.datetime.strftime(currentTime,'%H:%M'))\n",
    "\n",
    "\n",
    "# %H \tHours (24 hr clock)\n",
    "# %I \tHours (12 hr clock)\n",
    "# %p \tAM or PM\n",
    "# %m \tMinutes\n",
    "# %S \tSeconds\n"
   ]
  },
  {
   "cell_type": "code",
   "execution_count": 13,
   "metadata": {},
   "outputs": [],
   "source": [
    "# Your challenge\n",
    "# Ask a user to enter the deadline for their project\n",
    "# Tell them how many days they have to complete the project\n",
    "# For extra credit, give them the answer as a combination of weeks & days (Hint: you will need some of the math functions from the module on numeric values)\n"
   ]
  },
  {
   "cell_type": "code",
   "execution_count": 14,
   "metadata": {},
   "outputs": [
    {
     "name": "stdout",
     "output_type": "stream",
     "text": [
      "Hello World\n"
     ]
    }
   ],
   "source": [
    "def printMessage():\n",
    "    print('Hello World')\n",
    "    return\n",
    "\n",
    "printMessage()\n"
   ]
  },
  {
   "cell_type": "code",
   "execution_count": 15,
   "metadata": {},
   "outputs": [
    {
     "name": "stdout",
     "output_type": "stream",
     "text": [
      "Hello World\n"
     ]
    }
   ],
   "source": [
    "# def printMessage():\n",
    "#     print('Hello World')\n",
    "#     return\n",
    "\n",
    "printMessage()\n"
   ]
  },
  {
   "cell_type": "code",
   "execution_count": 16,
   "metadata": {},
   "outputs": [
    {
     "name": "stdout",
     "output_type": "stream",
     "text": [
      "Hello world!\n"
     ]
    }
   ],
   "source": [
    "def printMessage(message):\n",
    "    print(message)\n",
    "    return\n",
    "\n",
    "printMessage('Hello world!')\n"
   ]
  },
  {
   "cell_type": "code",
   "execution_count": 17,
   "metadata": {},
   "outputs": [
    {
     "name": "stdout",
     "output_type": "stream",
     "text": [
      "Hello, Christopher\n"
     ]
    }
   ],
   "source": [
    "def getMessage(name):\n",
    "    message = 'Hello, ' + name\n",
    "    return message\n",
    "\n",
    "def printMessage(message):\n",
    "    print(message)\n",
    "    return\n",
    "\n",
    "output = getMessage('Christopher')\n",
    "printMessage(output)\n"
   ]
  },
  {
   "cell_type": "code",
   "execution_count": 18,
   "metadata": {},
   "outputs": [
    {
     "name": "stdout",
     "output_type": "stream",
     "text": [
      "How much would you like to deposit? 3\n",
      "Enjoy your mug!\n",
      "Have a nice day\n"
     ]
    }
   ],
   "source": [
    "deposit=input(\"How much would you like to deposit? \")\n",
    "if float(deposit)>100:\n",
    "    print(\"You get a free toaster!\")\n",
    "else:\n",
    "    print(\"Enjoy your mug!\")\n",
    "print(\"Have a nice day\")\n",
    "\n"
   ]
  },
  {
   "cell_type": "code",
   "execution_count": 19,
   "metadata": {},
   "outputs": [
    {
     "name": "stdout",
     "output_type": "stream",
     "text": [
      "how much would you like to deposit? 222\n",
      "enjoy your toaster\n"
     ]
    }
   ],
   "source": [
    "freeToaster=False\n",
    "\n",
    "deposit=input(\"how much would you like to deposit? \")\n",
    "if float(deposit)>100:\n",
    "    freeToaster=True \n",
    "#Set the boolean variable freeToaster to True\n",
    "#if the variable freeToaster is True  \n",
    "#the print statement will execute \n",
    "if freeToaster:\n",
    "    print(\"enjoy your toaster\")\n"
   ]
  },
  {
   "cell_type": "code",
   "execution_count": 28,
   "metadata": {},
   "outputs": [],
   "source": [
    "width=20 \n",
    "height=5\n",
    "area=width*height\n",
    "perimeter=2*width+2*height\n",
    "perimeter=2*(width+height)"
   ]
  }
 ],
 "metadata": {
  "kernelspec": {
   "display_name": "Python 3",
   "language": "python",
   "name": "python3"
  },
  "language_info": {
   "codemirror_mode": {
    "name": "ipython",
    "version": 3
   },
   "file_extension": ".py",
   "mimetype": "text/x-python",
   "name": "python",
   "nbconvert_exporter": "python",
   "pygments_lexer": "ipython3",
   "version": "3.7.4"
  }
 },
 "nbformat": 4,
 "nbformat_minor": 2
}
