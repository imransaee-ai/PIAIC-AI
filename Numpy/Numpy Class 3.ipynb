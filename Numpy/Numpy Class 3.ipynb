{
 "cells": [
  {
   "cell_type": "code",
   "execution_count": 1,
   "metadata": {},
   "outputs": [],
   "source": [
    "import numpy as np"
   ]
  },
  {
   "cell_type": "code",
   "execution_count": 15,
   "metadata": {},
   "outputs": [
    {
     "name": "stdout",
     "output_type": "stream",
     "text": [
      "['Imran' 'Qasim' 'Ali' 'Imran' 'Shoaib' 'Ali']\n",
      "[[ 1.08229233  1.69643135  0.52449093 -0.42819914]\n",
      " [ 0.54214909  1.63920893 -0.47945873  0.69382822]\n",
      " [-0.564865    1.37580461 -0.64999863  0.63295581]\n",
      " [-0.6394648   0.2179277   0.31429097 -0.62677857]\n",
      " [ 0.44288312  0.81873615  1.56598936  1.15799833]\n",
      " [ 0.42858372  0.14425648 -1.15434786 -1.15339697]]\n"
     ]
    }
   ],
   "source": [
    "names = np.array([\"Imran\",\"Qasim\",\"Ali\",\"Imran\",\"Shoaib\",\"Ali\"])\n",
    "data = np.random.randn(6,4)\n",
    "print(names,data, sep=\"\\n\")\n",
    "\n",
    "#you can view it as these are columns"
   ]
  },
  {
   "cell_type": "code",
   "execution_count": 16,
   "metadata": {},
   "outputs": [
    {
     "data": {
      "text/plain": [
       "array([ True, False, False,  True, False, False])"
      ]
     },
     "execution_count": 16,
     "metadata": {},
     "output_type": "execute_result"
    }
   ],
   "source": [
    "names==\"Imran\""
   ]
  },
  {
   "cell_type": "code",
   "execution_count": 19,
   "metadata": {},
   "outputs": [
    {
     "data": {
      "text/plain": [
       "array([[ 1.08229233,  1.69643135,  0.52449093, -0.42819914],\n",
       "       [-0.6394648 ,  0.2179277 ,  0.31429097, -0.62677857]])"
      ]
     },
     "execution_count": 19,
     "metadata": {},
     "output_type": "execute_result"
    }
   ],
   "source": [
    "data[[True,False, False,True, False,False]]"
   ]
  },
  {
   "cell_type": "code",
   "execution_count": 20,
   "metadata": {},
   "outputs": [
    {
     "data": {
      "text/plain": [
       "array([[ 1.08229233,  1.69643135,  0.52449093, -0.42819914],\n",
       "       [-0.6394648 ,  0.2179277 ,  0.31429097, -0.62677857]])"
      ]
     },
     "execution_count": 20,
     "metadata": {},
     "output_type": "execute_result"
    }
   ],
   "source": [
    "data[names==\"Imran\"]  # using direct method all data where names are imran. like all links where class=imran"
   ]
  },
  {
   "cell_type": "code",
   "execution_count": 24,
   "metadata": {},
   "outputs": [
    {
     "data": {
      "text/plain": [
       "array([[-0.42819914,  1.08229233, -0.42819914],\n",
       "       [-0.62677857, -0.6394648 , -0.62677857]])"
      ]
     },
     "execution_count": 24,
     "metadata": {},
     "output_type": "execute_result"
    }
   ],
   "source": [
    "data[names==\"Imran\"][:,[-1,0,3]]  # using column numbers to further pick from already sliced index"
   ]
  },
  {
   "cell_type": "markdown",
   "metadata": {},
   "source": [
    "# Fancy Slicing"
   ]
  },
  {
   "cell_type": "code",
   "execution_count": 27,
   "metadata": {},
   "outputs": [
    {
     "data": {
      "text/plain": [
       "array([[[ 0,  1,  2],\n",
       "        [ 3,  4,  5],\n",
       "        [ 6,  7,  8]],\n",
       "\n",
       "       [[ 9, 10, 11],\n",
       "        [12, 13, 14],\n",
       "        [15, 16, 17]],\n",
       "\n",
       "       [[18, 19, 20],\n",
       "        [21, 22, 23],\n",
       "        [24, 25, 26]]])"
      ]
     },
     "execution_count": 27,
     "metadata": {},
     "output_type": "execute_result"
    }
   ],
   "source": [
    "# in fancy slicing we can pass elements in any dimension using square bracket\n",
    "a=np.arange(3*3*3).reshape(3,3,3)\n",
    "print(a)"
   ]
  },
  {
   "cell_type": "code",
   "execution_count": 32,
   "metadata": {},
   "outputs": [
    {
     "name": "stdout",
     "output_type": "stream",
     "text": [
      "[[[18 19 20]\n",
      "  [21 22 23]\n",
      "  [24 25 26]]\n",
      "\n",
      " [[ 9 10 11]\n",
      "  [12 13 14]\n",
      "  [15 16 17]]\n",
      "\n",
      " [[ 0  1  2]\n",
      "  [ 3  4  5]\n",
      "  [ 6  7  8]]]\n"
     ]
    }
   ],
   "source": [
    "a=np.arange(3*3*3).reshape(3,3,3)\n",
    "#print(a[slide,row,column])  you can choose multiple slides/dimensions multiple columnsb y again usign []\n",
    "#  use    :  for all rows or all columns\n",
    "print(a[[-1,-2,0]])"
   ]
  },
  {
   "cell_type": "code",
   "execution_count": 33,
   "metadata": {},
   "outputs": [
    {
     "name": "stdout",
     "output_type": "stream",
     "text": [
      "[[[18 19 20]\n",
      "  [21 22 23]\n",
      "  [24 25 26]]\n",
      "\n",
      " [[ 9 10 11]\n",
      "  [12 13 14]\n",
      "  [15 16 17]]\n",
      "\n",
      " [[ 0  1  2]\n",
      "  [ 3  4  5]\n",
      "  [ 6  7  8]]]\n"
     ]
    }
   ],
   "source": [
    "print(a[[-1,-2,0],:,:])"
   ]
  },
  {
   "cell_type": "markdown",
   "metadata": {},
   "source": [
    "# slicing and then updating the slicec value"
   ]
  },
  {
   "cell_type": "code",
   "execution_count": 43,
   "metadata": {},
   "outputs": [
    {
     "name": "stdout",
     "output_type": "stream",
     "text": [
      "[[[ 0  1  2]\n",
      "  [ 3  4  5]\n",
      "  [ 6  7  8]]\n",
      "\n",
      " [[ 9 10 11]\n",
      "  [12 13 14]\n",
      "  [15 16 17]]\n",
      "\n",
      " [[18 19 20]\n",
      "  [21 22 23]\n",
      "  [24 25 26]]]\n",
      "\n",
      "\n"
     ]
    },
    {
     "data": {
      "text/plain": [
       "array([[[ 0,  1,  2],\n",
       "        [ 3,  4,  5],\n",
       "        [ 6,  7,  8]],\n",
       "\n",
       "       [[ 5,  5,  5],\n",
       "        [ 5,  5,  5],\n",
       "        [ 5,  5,  5]],\n",
       "\n",
       "       [[18, 19, 20],\n",
       "        [21, 22, 23],\n",
       "        [24, 25, 26]]])"
      ]
     },
     "execution_count": 43,
     "metadata": {},
     "output_type": "execute_result"
    }
   ],
   "source": [
    "\n",
    "\n",
    "a=np.arange(3*3*3).reshape(3,3,3)\n",
    "print(a)\n",
    "print(\"\\n\")\n",
    "a[1]=5\n",
    "a"
   ]
  },
  {
   "cell_type": "code",
   "execution_count": 51,
   "metadata": {},
   "outputs": [
    {
     "data": {
      "text/plain": [
       "array([[ 0.66439474,  0.20260603,  0.15028176, -0.97351087]])"
      ]
     },
     "execution_count": 51,
     "metadata": {},
     "output_type": "execute_result"
    }
   ],
   "source": [
    "names = np.array([\"Col1\",\"Col2\",\"Col3\",\"Col4\",\"Col5\",\"Col6\"])\n",
    "data = np.random.randn(6,4)\n",
    "\n",
    "data[names==\"Col1\"]"
   ]
  },
  {
   "cell_type": "markdown",
   "metadata": {},
   "source": [
    "# Slicing works from left to right\n",
    "# like vlookup\n",
    "# jahan se start hoga wahan se agay se slice hoga"
   ]
  },
  {
   "cell_type": "code",
   "execution_count": 53,
   "metadata": {},
   "outputs": [
    {
     "data": {
      "text/plain": [
       "array([[-2.37810051,  0.19127259, -0.85948054,  1.38379958],\n",
       "       [ 0.53849713, -2.14293099, -1.16817329, -0.62355001],\n",
       "       [ 0.04824718, -0.46400464,  0.10515472, -0.09686056],\n",
       "       [-0.20891814,  0.50660211, -0.20323733, -0.37724805],\n",
       "       [ 0.19525299,  0.96289521,  1.29232177,  0.44999818],\n",
       "       [-1.33039826, -0.20182507,  1.36059606, -0.60949785]])"
      ]
     },
     "execution_count": 53,
     "metadata": {},
     "output_type": "execute_result"
    }
   ],
   "source": [
    "names = np.array([\"Col1\",\"Col2\",\"Col3\",\"Col4\",\"Col5\",\"Col6\"])\n",
    "data = np.random.randn(6,4)\n",
    "data"
   ]
  },
  {
   "cell_type": "code",
   "execution_count": 55,
   "metadata": {},
   "outputs": [
    {
     "data": {
      "text/plain": [
       "array([[ 1.38379958, -0.85948054,  0.19127259, -2.37810051],\n",
       "       [-0.62355001, -1.16817329, -2.14293099,  0.53849713],\n",
       "       [-0.09686056,  0.10515472, -0.46400464,  0.04824718],\n",
       "       [-0.37724805, -0.20323733,  0.50660211, -0.20891814],\n",
       "       [ 0.44999818,  1.29232177,  0.96289521,  0.19525299],\n",
       "       [-0.60949785,  1.36059606, -0.20182507, -1.33039826]])"
      ]
     },
     "execution_count": 55,
     "metadata": {},
     "output_type": "execute_result"
    }
   ],
   "source": [
    "data[:,::-1]   # means all rows, then all columns,  then step is -1"
   ]
  },
  {
   "cell_type": "markdown",
   "metadata": {},
   "source": [
    "# slicing using loop"
   ]
  },
  {
   "cell_type": "code",
   "execution_count": 57,
   "metadata": {},
   "outputs": [
    {
     "data": {
      "text/plain": [
       "array([[ 0,  1,  2,  3],\n",
       "       [ 4,  5,  6,  7],\n",
       "       [ 8,  9, 10, 11],\n",
       "       [12, 13, 14, 15],\n",
       "       [16, 17, 18, 19],\n",
       "       [20, 21, 22, 23],\n",
       "       [24, 25, 26, 27],\n",
       "       [28, 29, 30, 31]])"
      ]
     },
     "execution_count": 57,
     "metadata": {},
     "output_type": "execute_result"
    }
   ],
   "source": [
    "a = np.arange(8*4).reshape(8,4)\n",
    "a"
   ]
  },
  {
   "cell_type": "code",
   "execution_count": 61,
   "metadata": {},
   "outputs": [
    {
     "name": "stdout",
     "output_type": "stream",
     "text": [
      "0\n",
      "1\n",
      "2\n",
      "3\n",
      "4\n",
      "5\n",
      "6\n",
      "7\n"
     ]
    }
   ],
   "source": [
    "a = np.arange(8*4).reshape(8,4)\n",
    "for i in range(len(a)):\n",
    "    print(i)   # this will pick on row\n",
    "    "
   ]
  },
  {
   "cell_type": "code",
   "execution_count": 63,
   "metadata": {},
   "outputs": [
    {
     "name": "stdout",
     "output_type": "stream",
     "text": [
      "[[0 0 0 0]\n",
      " [1 1 1 1]\n",
      " [2 2 2 2]\n",
      " [3 3 3 3]\n",
      " [4 4 4 4]\n",
      " [5 5 5 5]\n",
      " [6 6 6 6]\n",
      " [7 7 7 7]]\n"
     ]
    }
   ],
   "source": [
    "a = np.arange(8*4).reshape(8,4)\n",
    "for i in range(len(a)):\n",
    "    a[i]=i\n",
    "print(a)"
   ]
  },
  {
   "cell_type": "code",
   "execution_count": 67,
   "metadata": {},
   "outputs": [
    {
     "name": "stdout",
     "output_type": "stream",
     "text": [
      "[[0 0 0 0]\n",
      " [1 1 1 1]\n",
      " [2 2 2 2]\n",
      " [3 3 3 3]\n",
      " [4 4 4 4]\n",
      " [5 5 5 5]\n",
      " [6 6 6 6]\n",
      " [7 7 7 7]]\n"
     ]
    }
   ],
   "source": [
    "a = np.arange(8*4).reshape(8,4)\n",
    "for i, _ in enumerate(a):            # suing _ instead of a value puts that variable in garbage\n",
    "    a[i] = i\n",
    "print(a)"
   ]
  },
  {
   "cell_type": "markdown",
   "metadata": {},
   "source": [
    "# Tranposing Arrays and Swappig Axes"
   ]
  },
  {
   "cell_type": "code",
   "execution_count": 71,
   "metadata": {},
   "outputs": [
    {
     "name": "stdout",
     "output_type": "stream",
     "text": [
      "[[ 0  1  2  3]\n",
      " [ 4  5  6  7]\n",
      " [ 8  9 10 11]]\n",
      "\n",
      "[[ 0  4  8]\n",
      " [ 1  5  9]\n",
      " [ 2  6 10]\n",
      " [ 3  7 11]]\n",
      "\n",
      "[[ 0  4  8]\n",
      " [ 1  5  9]\n",
      " [ 2  6 10]\n",
      " [ 3  7 11]]\n"
     ]
    }
   ],
   "source": [
    "a = np.arange(3*4).reshape(3,4)\n",
    "print(a)\n",
    "print()\n",
    "\n",
    "print(a.T)     # using attribute T for transpose\n",
    "\n",
    "print()\n",
    "print(a.transpose())   # we an also use mthod of transpose"
   ]
  },
  {
   "cell_type": "markdown",
   "metadata": {},
   "source": [
    "# Element wise multiplication and dot product multiplcation "
   ]
  },
  {
   "cell_type": "code",
   "execution_count": null,
   "metadata": {},
   "outputs": [],
   "source": []
  }
 ],
 "metadata": {
  "kernelspec": {
   "display_name": "Python 3",
   "language": "python",
   "name": "python3"
  },
  "language_info": {
   "codemirror_mode": {
    "name": "ipython",
    "version": 3
   },
   "file_extension": ".py",
   "mimetype": "text/x-python",
   "name": "python",
   "nbconvert_exporter": "python",
   "pygments_lexer": "ipython3",
   "version": "3.7.4"
  }
 },
 "nbformat": 4,
 "nbformat_minor": 2
}
