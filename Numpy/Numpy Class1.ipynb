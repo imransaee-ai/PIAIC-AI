{
 "cells": [
  {
   "cell_type": "code",
   "execution_count": 1,
   "metadata": {},
   "outputs": [
    {
     "name": "stdout",
     "output_type": "stream",
     "text": [
      "%history\n"
     ]
    }
   ],
   "source": [
    "%history"
   ]
  },
  {
   "cell_type": "code",
   "execution_count": 3,
   "metadata": {},
   "outputs": [
    {
     "data": {
      "text/plain": [
       "6"
      ]
     },
     "execution_count": 3,
     "metadata": {},
     "output_type": "execute_result"
    }
   ],
   "source": [
    "sum([1,2,3])"
   ]
  },
  {
   "cell_type": "code",
   "execution_count": 4,
   "metadata": {},
   "outputs": [
    {
     "name": "stdout",
     "output_type": "stream",
     "text": [
      "%history\n",
      "sum[1,2,3]\n",
      "sum([1,2,3])\n",
      "%history\n"
     ]
    }
   ],
   "source": [
    "%history"
   ]
  },
  {
   "cell_type": "code",
   "execution_count": 1,
   "metadata": {},
   "outputs": [
    {
     "name": "stderr",
     "output_type": "stream",
     "text": [
      "'touch' is not recognized as an internal or external command,\n",
      "operable program or batch file.\n"
     ]
    }
   ],
   "source": [
    "!touch myfile.py\n",
    "# this is a linux command and will not work in windows"
   ]
  },
  {
   "cell_type": "code",
   "execution_count": 3,
   "metadata": {},
   "outputs": [
    {
     "name": "stdout",
     "output_type": "stream",
     "text": [
      "Wall time: 0 ns\n"
     ]
    },
    {
     "data": {
      "text/plain": [
       "6"
      ]
     },
     "execution_count": 3,
     "metadata": {},
     "output_type": "execute_result"
    }
   ],
   "source": [
    "%time sum([1,2,3])"
   ]
  },
  {
   "cell_type": "markdown",
   "metadata": {},
   "source": [
    "# Numpy Vs Python"
   ]
  },
  {
   "cell_type": "code",
   "execution_count": null,
   "metadata": {},
   "outputs": [],
   "source": [
    "%time l1= list(range(1,2000000))"
   ]
  },
  {
   "cell_type": "code",
   "execution_count": 10,
   "metadata": {},
   "outputs": [
    {
     "name": "stdout",
     "output_type": "stream",
     "text": [
      "Wall time: 176 ms\n"
     ]
    },
    {
     "data": {
      "text/plain": [
       "[6, 7, 8, 9, 10, 11, 12, 13, 14, 15]"
      ]
     },
     "execution_count": 10,
     "metadata": {},
     "output_type": "execute_result"
    }
   ],
   "source": [
    " # adding number in a list method 1 using loop\n",
    "%time [x+5 for x in l1] [:10]"
   ]
  },
  {
   "cell_type": "code",
   "execution_count": 12,
   "metadata": {},
   "outputs": [
    {
     "data": {
      "text/plain": [
       "<enumerate at 0x228b00842c8>"
      ]
     },
     "execution_count": 12,
     "metadata": {},
     "output_type": "execute_result"
    }
   ],
   "source": [
    "enumerate(['a','b','c','d'])"
   ]
  },
  {
   "cell_type": "code",
   "execution_count": 13,
   "metadata": {},
   "outputs": [
    {
     "data": {
      "text/plain": [
       "[(0, 'a'), (1, 'b'), (2, 'c'), (3, 'd')]"
      ]
     },
     "execution_count": 13,
     "metadata": {},
     "output_type": "execute_result"
    }
   ],
   "source": [
    "list(enumerate(['a','b','c','d']))"
   ]
  },
  {
   "cell_type": "code",
   "execution_count": 16,
   "metadata": {},
   "outputs": [
    {
     "data": {
      "text/plain": [
       "[16, 17, 18, 19, 20, 21, 22, 23, 24, 25]"
      ]
     },
     "execution_count": 16,
     "metadata": {},
     "output_type": "execute_result"
    }
   ],
   "source": [
    "# adding number is a list usign enumerate and then loop\n",
    "for i,v in list(enumerate(l1)):\n",
    "    l1[i] = l1[i]+5\n",
    "    \n",
    "l1[0:10]"
   ]
  },
  {
   "cell_type": "markdown",
   "metadata": {},
   "source": [
    "## numpy"
   ]
  },
  {
   "cell_type": "code",
   "execution_count": 6,
   "metadata": {},
   "outputs": [],
   "source": [
    "import numpy as np"
   ]
  },
  {
   "cell_type": "code",
   "execution_count": 26,
   "metadata": {},
   "outputs": [
    {
     "name": "stdout",
     "output_type": "stream",
     "text": [
      "Wall time: 9.97 ms\n"
     ]
    }
   ],
   "source": [
    "%time l2 = np.arange(1,3000000)"
   ]
  },
  {
   "cell_type": "code",
   "execution_count": 27,
   "metadata": {},
   "outputs": [
    {
     "name": "stdout",
     "output_type": "stream",
     "text": [
      "Wall time: 8.98 ms\n"
     ]
    },
    {
     "data": {
      "text/plain": [
       "array([      6,       7,       8, ..., 3000002, 3000003, 3000004])"
      ]
     },
     "execution_count": 27,
     "metadata": {},
     "output_type": "execute_result"
    }
   ],
   "source": [
    "%time l2 + 5"
   ]
  },
  {
   "cell_type": "code",
   "execution_count": 18,
   "metadata": {},
   "outputs": [],
   "source": [
    "# you have actually broadcasted a number over whole array"
   ]
  },
  {
   "cell_type": "code",
   "execution_count": 28,
   "metadata": {},
   "outputs": [
    {
     "name": "stdout",
     "output_type": "stream",
     "text": [
      "Dimension: 1\n",
      "Shape: (2999999,)\n",
      "type: int32\n"
     ]
    }
   ],
   "source": [
    "# printing dimension shape and type of array\n",
    "print(\"Dimension:\", l2.ndim)\n",
    "print(\"Shape:\", l2.shape)\n",
    "print(\"type:\", l2.dtype)"
   ]
  },
  {
   "cell_type": "code",
   "execution_count": 29,
   "metadata": {},
   "outputs": [
    {
     "name": "stdout",
     "output_type": "stream",
     "text": [
      "[[0.92626009 0.74504825]\n",
      " [1.43089898 0.60280708]]\n",
      "Dimension: 2\n",
      "Shape: (2, 2)\n",
      "type: float64\n"
     ]
    }
   ],
   "source": [
    "l3 = np.random.randn(2,2)\n",
    "print(l3)\n",
    "print(\"Dimension:\", l3.ndim)\n",
    "print(\"Shape:\", l3.shape)\n",
    "print(\"type:\", l3.dtype)"
   ]
  },
  {
   "cell_type": "code",
   "execution_count": 57,
   "metadata": {},
   "outputs": [
    {
     "name": "stdout",
     "output_type": "stream",
     "text": [
      "[[[ 0.7028066  -0.01125795  0.39502987  1.37561192  0.964523  ]\n",
      "  [-0.08250256 -0.87801054 -1.26653564 -0.43622609  1.00456187]\n",
      "  [-0.11216798 -0.72639195 -1.11586273  0.6190969   0.48909521]\n",
      "  [ 0.81928943  1.03220522  1.22679373  0.95338775 -1.75257255]]\n",
      "\n",
      " [[ 0.18086414  0.08299777 -1.75961031 -0.29240136  0.13019145]\n",
      "  [ 1.19097649  0.15948388  0.74866828 -0.54742315 -0.58845389]\n",
      "  [ 0.97517339  0.16609264 -0.62171184  0.0659363  -0.76874128]\n",
      "  [ 1.4545498  -2.1041436   0.08459816 -1.12829163 -0.05347263]]\n",
      "\n",
      " [[-0.13633765 -0.28147884 -0.78356313 -1.30448898  1.03838161]\n",
      "  [ 0.61815222 -0.32236295  2.01310303 -0.49085301  1.47777839]\n",
      "  [ 0.21543291 -0.40181103 -0.39282326  0.59916741 -1.00418322]\n",
      "  [-0.37554341  2.22300636  1.29148377  0.3514078   0.78919567]]]\n",
      "Dimension: 3\n",
      "Shape: (3, 4, 5)\n",
      "type: float64\n",
      "type: 8\n"
     ]
    }
   ],
   "source": [
    "l4 = np.random.randn(3,4,5)\n",
    "print(l4)\n",
    "print(\"Dimension:\", l4.ndim)\n",
    "print(\"Shape:\", l4.shape)\n",
    "print(\"type:\", l4.dtype)\n",
    "print(\"type:\", l4.itemsize)   # tells number of bits"
   ]
  },
  {
   "cell_type": "code",
   "execution_count": null,
   "metadata": {},
   "outputs": [],
   "source": [
    "# columns are in rows. and rows are in dimensions or axis. \n",
    "# so in above we have 3 dimensions or 3 axis\n",
    "# then 4 rows in each dimension\n",
    "# then 5 columns\n",
    "# if"
   ]
  },
  {
   "cell_type": "code",
   "execution_count": 41,
   "metadata": {},
   "outputs": [
    {
     "data": {
      "text/plain": [
       "array([ 1,  2,  3,  4,  5,  6,  7,  8,  9, 10, 11, 12, 13, 14, 15, 16, 17,\n",
       "       18, 19, 20, 21, 22, 23, 24])"
      ]
     },
     "execution_count": 41,
     "metadata": {},
     "output_type": "execute_result"
    }
   ],
   "source": [
    "l5 = np.arange(1,25)\n",
    "l5"
   ]
  },
  {
   "cell_type": "code",
   "execution_count": 43,
   "metadata": {},
   "outputs": [
    {
     "data": {
      "text/plain": [
       "array([ 0,  1,  2,  3,  4,  5,  6,  7,  8,  9, 10, 11, 12, 13, 14, 15, 16,\n",
       "       17, 18, 19, 20, 21, 22, 23, 24])"
      ]
     },
     "execution_count": 43,
     "metadata": {},
     "output_type": "execute_result"
    }
   ],
   "source": [
    "l6 = np.arange(25)\n",
    "l6\n",
    "# means if starting point is not given to range. then it starts from 0\n",
    "# range has 3 eleemnts. start end(not included) and step"
   ]
  },
  {
   "cell_type": "code",
   "execution_count": 44,
   "metadata": {},
   "outputs": [
    {
     "data": {
      "text/plain": [
       "array([[[ 0,  1,  2],\n",
       "        [ 3,  4,  5],\n",
       "        [ 6,  7,  8]],\n",
       "\n",
       "       [[ 9, 10, 11],\n",
       "        [12, 13, 14],\n",
       "        [15, 16, 17]],\n",
       "\n",
       "       [[18, 19, 20],\n",
       "        [21, 22, 23],\n",
       "        [24, 25, 26]]])"
      ]
     },
     "execution_count": 44,
     "metadata": {},
     "output_type": "execute_result"
    }
   ],
   "source": [
    "l7 = np.arange(27).reshape(3,3,3)\n",
    "l7\n",
    "# we reshaped that array into dimensions of 3,3,3"
   ]
  },
  {
   "cell_type": "markdown",
   "metadata": {},
   "source": [
    "<img src='https://www.pythoninformer.com/img/numpy/3d-array.png'>"
   ]
  },
  {
   "cell_type": "code",
   "execution_count": 45,
   "metadata": {},
   "outputs": [],
   "source": [
    "# we use markup of <img src=\"url\"> here. from GIT markdown\n"
   ]
  },
  {
   "cell_type": "code",
   "execution_count": 46,
   "metadata": {},
   "outputs": [],
   "source": [
    "# i,j,k means\n",
    "# i is dimension        j is rows  k is columns\n",
    "# RGB red green blue\n",
    "\n"
   ]
  },
  {
   "cell_type": "markdown",
   "metadata": {},
   "source": [
    "# slicing a 3 dimension arrange"
   ]
  },
  {
   "cell_type": "code",
   "execution_count": 49,
   "metadata": {},
   "outputs": [
    {
     "name": "stdout",
     "output_type": "stream",
     "text": [
      "0\n",
      "13\n",
      "26\n"
     ]
    }
   ],
   "source": [
    " # to slice them use the similar index. indexing starts form 0\n",
    "# 0 dimentsion, 0 row, 0 column\n",
    "    l7 = np.arange(27).reshape(3,3,3)\n",
    "l7\n",
    "print(l7[0,0,0])\n",
    "print(l7[1,1,1])\n",
    "print(l7[2,2,2])"
   ]
  },
  {
   "cell_type": "markdown",
   "metadata": {},
   "source": [
    "# reshaping arrays"
   ]
  },
  {
   "cell_type": "code",
   "execution_count": 55,
   "metadata": {},
   "outputs": [
    {
     "name": "stdout",
     "output_type": "stream",
     "text": [
      "[[ 1  2  3  4  5  6  7  8  9 10 11 12]]\n",
      "-------------------------\n",
      "[[ 1  2  3  4  5  6]\n",
      " [ 7  8  9 10 11 12]]\n",
      "-------------------------\n",
      "[[ 1  2  3  4]\n",
      " [ 5  6  7  8]\n",
      " [ 9 10 11 12]]\n",
      "-------------------------\n",
      "[[ 1  2  3]\n",
      " [ 4  5  6]\n",
      " [ 7  8  9]\n",
      " [10 11 12]]\n",
      "-------------------------\n",
      "[[ 1  2]\n",
      " [ 3  4]\n",
      " [ 5  6]\n",
      " [ 7  8]\n",
      " [ 9 10]\n",
      " [11 12]]\n",
      "-------------------------\n",
      "[[ 1]\n",
      " [ 2]\n",
      " [ 3]\n",
      " [ 4]\n",
      " [ 5]\n",
      " [ 6]\n",
      " [ 7]\n",
      " [ 8]\n",
      " [ 9]\n",
      " [10]\n",
      " [11]\n",
      " [12]]\n"
     ]
    }
   ],
   "source": [
    "# arrange can be reshaped into all posssible combinations\n",
    "l8 = np.arange(1,13).reshape(1,12)\n",
    "print(l8)\n",
    "print('-------------------------')\n",
    "l8 = np.arange(1,13).reshape(2,6)\n",
    "print(l8)\n",
    "print('-------------------------')\n",
    "l8 = np.arange(1,13).reshape(3,4)\n",
    "print(l8)\n",
    "print('-------------------------')\n",
    "l8 = np.arange(1,13).reshape(4,3)\n",
    "print(l8)\n",
    "print('-------------------------')\n",
    "l8 = np.arange(1,13).reshape(6,2)\n",
    "print(l8)\n",
    "print('-------------------------')\n",
    "l8 = np.arange(1,13).reshape(12,1)\n",
    "print(l8)"
   ]
  },
  {
   "cell_type": "code",
   "execution_count": 72,
   "metadata": {},
   "outputs": [
    {
     "name": "stdout",
     "output_type": "stream",
     "text": [
      "[[ 1  2  3  4]\n",
      " [ 5  6  7  8]\n",
      " [ 9 10 11 12]]\n",
      "--------------\n",
      "[[False  True False  True]\n",
      " [False  True False  True]\n",
      " [False  True False  True]]\n",
      "--------------\n",
      "[ 2  4  6  8 10 12]\n"
     ]
    }
   ],
   "source": [
    "l8 = np.arange(1,13).reshape(3,4)\n",
    "print(l8)          # show all\n",
    "print(\"--------------\")\n",
    "print(l8 % 2 == 0)  # check only where remainder should be 0 if divided by 2  as true false\n",
    "print(\"--------------\")\n",
    "print(l8[l8 % 2 == 0])  # slice and then print only where remainder should be 0 if divided by 2  as true false"
   ]
  },
  {
   "cell_type": "markdown",
   "metadata": {},
   "source": [
    "# np.array always makes a deep copy"
   ]
  },
  {
   "cell_type": "code",
   "execution_count": 77,
   "metadata": {},
   "outputs": [
    {
     "name": "stdout",
     "output_type": "stream",
     "text": [
      "[1 2 3]\n",
      "False\n"
     ]
    }
   ],
   "source": [
    "l1 = [1,2,3]\n",
    "a = np.array(l1)         # np.array makes a deep copy. a new physical address and new copy in reference\n",
    "# to check this. lets assign this to b. and check if they are equal\n",
    "\n",
    "b = np.array(a)\n",
    "print(a)\n",
    "\n",
    "print(a is b)"
   ]
  },
  {
   "cell_type": "markdown",
   "metadata": {},
   "source": [
    "# np.asarray makes a shallow copy or deep copy"
   ]
  },
  {
   "cell_type": "code",
   "execution_count": 84,
   "metadata": {},
   "outputs": [
    {
     "name": "stdout",
     "output_type": "stream",
     "text": [
      "[1 2 3]\n",
      "False\n",
      "True\n",
      "False\n"
     ]
    }
   ],
   "source": [
    "#1 ifalready array -->>> no change in data type -->> makes a shallow copy if input is already an array\n",
    "#2 if already array >>>>> datea type changed--->>>   means not an array already\n",
    "#3 if not array --->> makes deep copy\n",
    "l1 = [1,2,3]\n",
    "a = np.asarray(l1)         \n",
    "b = np.asarray(a)\n",
    "c = np.asarray(a, dtype=np.float64)\n",
    "print(a)\n",
    "\n",
    "print(l1 is a)   #1 this is deep copy   so false\n",
    "print(a is b)    #2 this is shallow copy so true\n",
    "print(c is a)  #3 this is again a deep copy"
   ]
  },
  {
   "cell_type": "markdown",
   "metadata": {},
   "source": [
    "## built in data type in the a range function "
   ]
  },
  {
   "cell_type": "code",
   "execution_count": null,
   "metadata": {},
   "outputs": [],
   "source": [
    " a = np.arange()"
   ]
  }
 ],
 "metadata": {
  "kernelspec": {
   "display_name": "Python 3",
   "language": "python",
   "name": "python3"
  },
  "language_info": {
   "codemirror_mode": {
    "name": "ipython",
    "version": 3
   },
   "file_extension": ".py",
   "mimetype": "text/x-python",
   "name": "python",
   "nbconvert_exporter": "python",
   "pygments_lexer": "ipython3",
   "version": "3.7.4"
  }
 },
 "nbformat": 4,
 "nbformat_minor": 2
}
