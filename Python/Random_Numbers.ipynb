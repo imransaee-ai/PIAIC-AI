{
 "cells": [
  {
   "cell_type": "code",
   "execution_count": 1,
   "metadata": {},
   "outputs": [
    {
     "name": "stdout",
     "output_type": "stream",
     "text": [
      "0.8047870369599035\n"
     ]
    }
   ],
   "source": [
    "# Random number between 0 and 1.\n",
    "# We can generate a (pseudo) random floating point number with this small code:\n",
    "\n",
    "from random import *\n",
    "print(random())     # Generate a pseudo-random number between 0 and 1.\n"
   ]
  },
  {
   "cell_type": "code",
   "execution_count": 5,
   "metadata": {},
   "outputs": [
    {
     "name": "stdout",
     "output_type": "stream",
     "text": [
      "98\n",
      "12\n"
     ]
    }
   ],
   "source": [
    "\n",
    "# Generate a random number between 1 and 100\n",
    "# To generate a whole number (integer) between one and one hundred use:\n",
    "\n",
    "# from random import *\n",
    "\n",
    "print(randint(1, 100))    # Pick a random number between 1 and 100.\n",
    "\n",
    "# This will printa random integer. If you want to store it in a variable you can use:\n",
    "from random import *\n",
    "x = randint(1, 100)    # Pick a random number between 1 and 100.\n",
    "print(x)\n",
    "\n"
   ]
  },
  {
   "cell_type": "code",
   "execution_count": 6,
   "metadata": {},
   "outputs": [
    {
     "name": "stdout",
     "output_type": "stream",
     "text": [
      "8.97828928546819\n"
     ]
    }
   ],
   "source": [
    "# Random number between 1 and 10\n",
    "# To generate a random floating point number between 1 and 10 you can use the uniform() function\n",
    "\n",
    "# from random import *\n",
    "\n",
    "print(uniform(1, 10))\n",
    "\n",
    "# Picking a random item from a list\n",
    "\n"
   ]
  },
  {
   "cell_type": "code",
   "execution_count": 7,
   "metadata": {},
   "outputs": [
    {
     "name": "stdout",
     "output_type": "stream",
     "text": [
      "[8, 2, 9, 10, 1, 4, 3, 5, 7, 6]\n"
     ]
    }
   ],
   "source": [
    "# Fun with lists\n",
    "# We can shuffle a list with this code:\n",
    "\n",
    "# from random import *\n",
    "\n",
    "items = [1, 2, 3, 4, 5, 6, 7, 8, 9, 10]\n",
    "shuffle(items)\n",
    "print(items)\n",
    "\n"
   ]
  },
  {
   "cell_type": "code",
   "execution_count": 9,
   "metadata": {},
   "outputs": [
    {
     "name": "stdout",
     "output_type": "stream",
     "text": [
      "1\n",
      "[10, 2, 5, 4]\n"
     ]
    }
   ],
   "source": [
    "# To pick a random number from a list:\n",
    "\n",
    "# from random import *\n",
    "\n",
    "items = [1, 2, 3, 4, 5, 6, 7, 8, 9, 10]\n",
    "\n",
    "x = sample(items,  1)   # Pick a random item from the list\n",
    "print(x[0])\n",
    "\n",
    "y = sample(items, 4)    # Pick 4 random items from the list\n",
    "print(y)\n",
    "\n"
   ]
  },
  {
   "cell_type": "code",
   "execution_count": 10,
   "metadata": {},
   "outputs": [
    {
     "name": "stdout",
     "output_type": "stream",
     "text": [
      "Alissa\n"
     ]
    }
   ],
   "source": [
    "# We can do the same thing with a list of strings:\n",
    "\n",
    "# from random import *\n",
    "\n",
    "items = ['Alissa','Alice','Marco','Melissa','Sandra','Steve']\n",
    "\n",
    "x = sample(items,  1)   # Pick a random item from the list\n",
    "print(x[0])\n",
    "\n"
   ]
  },
  {
   "cell_type": "code",
   "execution_count": 11,
   "metadata": {},
   "outputs": [
    {
     "name": "stdout",
     "output_type": "stream",
     "text": [
      "['Alice', 'Marco', 'Sandra', 'Alissa']\n"
     ]
    }
   ],
   "source": [
    "y = sample(items, 4)    # Pick 4 random items from the list\n",
    "print(y)"
   ]
  },
  {
   "cell_type": "code",
   "execution_count": null,
   "metadata": {},
   "outputs": [],
   "source": []
  },
  {
   "cell_type": "code",
   "execution_count": null,
   "metadata": {},
   "outputs": [],
   "source": []
  }
 ],
 "metadata": {
  "kernelspec": {
   "display_name": "Python 3",
   "language": "python",
   "name": "python3"
  },
  "language_info": {
   "codemirror_mode": {
    "name": "ipython",
    "version": 3
   },
   "file_extension": ".py",
   "mimetype": "text/x-python",
   "name": "python",
   "nbconvert_exporter": "python",
   "pygments_lexer": "ipython3",
   "version": "3.7.4"
  }
 },
 "nbformat": 4,
 "nbformat_minor": 2
}
