{
 "cells": [
  {
   "cell_type": "markdown",
   "metadata": {},
   "source": [
    "# First Rule of Problem Solving - Break it down to small steps and fix one at a time"
   ]
  },
  {
   "cell_type": "code",
   "execution_count": 35,
   "metadata": {},
   "outputs": [
    {
     "name": "stdout",
     "output_type": "stream",
     "text": [
      "[[0, 0, 0], [0, 0, 0], [0, 0, 0]]\n"
     ]
    }
   ],
   "source": [
    "\n",
    "game = [[0,0,0,],[0,0,0],[0,0,0]]\n",
    "print(game)"
   ]
  },
  {
   "cell_type": "code",
   "execution_count": 38,
   "metadata": {},
   "outputs": [
    {
     "name": "stdout",
     "output_type": "stream",
     "text": [
      "[0, 0, 0]\n",
      "[0, 0, 0]\n",
      "[0, 0, 0]\n"
     ]
    }
   ],
   "source": [
    "game = [[0,0,0,],[0,0,0],[0,0,0]]\n",
    "print(game[0])\n",
    "print(game[1])\n",
    "print(game[2])"
   ]
  },
  {
   "cell_type": "code",
   "execution_count": 25,
   "metadata": {},
   "outputs": [
    {
     "name": "stdout",
     "output_type": "stream",
     "text": [
      "   A  B  C\n",
      "0 [0, 0, 0]\n",
      "1 [0, 0, 0]\n",
      "2 [0, 0, 0]\n"
     ]
    }
   ],
   "source": [
    "# lets  loop the print funtions instead of writing it agian and again\n",
    "game = [[0,0,0,],[0,0,0],[0,0,0]]\n",
    "row = 0\n",
    "print(\"   A  B  C\")\n",
    "for x in game:\n",
    "    print(row, x)\n",
    "    row = row + 1\n"
   ]
  },
  {
   "cell_type": "code",
   "execution_count": 28,
   "metadata": {},
   "outputs": [
    {
     "name": "stdout",
     "output_type": "stream",
     "text": [
      "   A  B  C\n",
      "0 [0, 1, 0]\n",
      "1 [0, 0, 0]\n",
      "2 [0, 0, 0]\n"
     ]
    }
   ],
   "source": [
    "# slicing and updating a value\n",
    "\n",
    "game = [[0,0,0,],[0,0,0],[0,0,0]]\n",
    "row = 0\n",
    "\n",
    "print(\"   A  B  C\")\n",
    "for x in game:\n",
    "    print(row, x)\n",
    "    row = row + 1\n",
    "    \n",
    "    "
   ]
  },
  {
   "cell_type": "code",
   "execution_count": 26,
   "metadata": {},
   "outputs": [
    {
     "name": "stdout",
     "output_type": "stream",
     "text": [
      "   A  B  C\n",
      "0 [0, 0, 0]\n",
      "1 [0, 0, 0]\n",
      "2 [0, 0, 0]\n"
     ]
    }
   ],
   "source": [
    "game = [[0,0,0,],[0,0,0],[0,0,0]]\n",
    "\n",
    "\n",
    "print(\"   A  B  C\")\n",
    "for count, row  in enumerate(game):   # returns the index # and its value. so we are just return index 0 and row 10\n",
    "    print(count, row)\n",
    "   "
   ]
  },
  {
   "cell_type": "code",
   "execution_count": 24,
   "metadata": {},
   "outputs": [
    {
     "name": "stdout",
     "output_type": "stream",
     "text": [
      "   0  1  2\n",
      "0\n",
      "0\n",
      "0\n",
      "0\n",
      "0\n",
      "0\n",
      "0\n",
      "0\n",
      "0\n"
     ]
    }
   ],
   "source": [
    "\n",
    "game = [[0,0,0,],[0,0,0],[0,0,0]]\n",
    "\n",
    "\n",
    "\n",
    "print(\"   0  1  2\")\n",
    "for count, row  in enumerate(game):   # this will enumerate each row. lets go into items of the row \n",
    "    for item in row:\n",
    "        print(item)"
   ]
  },
  {
   "cell_type": "code",
   "execution_count": 31,
   "metadata": {},
   "outputs": [
    {
     "name": "stdout",
     "output_type": "stream",
     "text": [
      "   A  B  C\n",
      "0 [0, 0, 1]\n",
      "1 [0, 0, 0]\n",
      "2 [0, 0, 0]\n"
     ]
    }
   ],
   "source": [
    "# to save space. to make it compact. make it dynamic. wrap whole game as function. \n",
    "# for repetitions use custom funtions\n",
    "\n",
    "game = [[0,0,0,],[0,0,0],[0,0,0]]\n",
    "\n",
    "def game_board():\n",
    "    print(\"   A  B  C\")\n",
    "    for count, row  in enumerate(game):   \n",
    "        print(count, row)\n",
    "        \n",
    "game[0][2]=1\n",
    "\n",
    "game_board()\n",
    "\n",
    "\n",
    "# now instead of manually updating again and agin the funtion. lets add parameters \n"
   ]
  },
  {
   "cell_type": "code",
   "execution_count": 32,
   "metadata": {},
   "outputs": [
    {
     "name": "stdout",
     "output_type": "stream",
     "text": [
      "   A  B  C\n",
      "0 [0, 0, 0]\n",
      "1 [0, 0, 0]\n",
      "2 [0, 0, 0]\n"
     ]
    }
   ],
   "source": [
    "# now instead of manually updating again and agin the funtion. lets add parameters \n",
    "game = [[0,0,0,],[0,0,0],[0,0,0]]\n",
    "\n",
    "def game_board(player=0,row=0,column=0):     # we will set default values to these parameters . so that when funtion is called without any paretmer. it still owks\n",
    "    game[row][column]= player\n",
    "    print(\"   A  B  C\")\n",
    "    for count, row  in enumerate(game):   \n",
    "        print(count, row)\n",
    "        \n",
    "game_board()\n",
    "\n",
    "\n"
   ]
  },
  {
   "cell_type": "code",
   "execution_count": 34,
   "metadata": {},
   "outputs": [
    {
     "name": "stdout",
     "output_type": "stream",
     "text": [
      "   A  B  C\n",
      "0 [0, 0, 0]\n",
      "1 [0, 0, 0]\n",
      "2 [0, 0, 0]\n",
      "   A  B  C\n",
      "0 [0, 0, 0]\n",
      "1 [0, 1, 0]\n",
      "2 [0, 0, 0]\n"
     ]
    }
   ],
   "source": [
    "# now instead of manually updating again and agin the funtion. lets add parameters \n",
    "game = [[0,0,0,],[0,0,0],[0,0,0]]\n",
    "\n",
    "def game_board(player=0,row=0,column=0, just_display=False):     # we will set default values to these parameters . so that when funtion is called without any paretmer. it still owks\n",
    "    if not just_display:\n",
    "        game[row][column]= player\n",
    "    print(\"   A  B  C\")\n",
    "    for count, row  in enumerate(game):   \n",
    "        print(count, row)\n",
    "        \n",
    "game_board(just_display=True)\n",
    "game_board(1,1,1)"
   ]
  },
  {
   "cell_type": "code",
   "execution_count": null,
   "metadata": {},
   "outputs": [],
   "source": [
    "# An Object outside the funtion is not changed by the funtion. ITs immutable.\n",
    "# but we can change value of its index\n",
    "# but not the whole funtion\n",
    "# when called along the variable value would be unchanged. \n",
    "\n",
    "# we can set a variable as global then it would work inside and outside the funtion"
   ]
  },
  {
   "cell_type": "code",
   "execution_count": 7,
   "metadata": {},
   "outputs": [
    {
     "name": "stdout",
     "output_type": "stream",
     "text": [
      "   A  B  C\n",
      "0 [0, 0, 0]\n",
      "1 [0, 0, 0]\n",
      "2 [0, 0, 0]\n",
      "   A  B  C\n",
      "0 [0, 0, 0]\n",
      "1 [0, 0, 1]\n",
      "2 [0, 0, 0]\n"
     ]
    }
   ],
   "source": [
    "game = [[0,0,0,],[0,0,0],[0,0,0]] \n",
    "\n",
    "def game_board(game_map, player=0,row=0,column=0, just_display=False):     \n",
    "    try:\n",
    "        print(\"   A  B  C\")\n",
    "        if not just_display:\n",
    "            game_map[row][column]= player\n",
    "        for count, row  in enumerate(game_map):\n",
    "                print(count, row)\n",
    "        return game_map\n",
    "    except: \"Something went wrong !!!\"\n",
    "        \n",
    "game = game_board(game, just_display=True) \n",
    "game = game_board(game, player=1, row=1, column=2)"
   ]
  },
  {
   "cell_type": "code",
   "execution_count": null,
   "metadata": {},
   "outputs": [],
   "source": []
  }
 ],
 "metadata": {
  "kernelspec": {
   "display_name": "Python 3",
   "language": "python",
   "name": "python3"
  },
  "language_info": {
   "codemirror_mode": {
    "name": "ipython",
    "version": 3
   },
   "file_extension": ".py",
   "mimetype": "text/x-python",
   "name": "python",
   "nbconvert_exporter": "python",
   "pygments_lexer": "ipython3",
   "version": "3.7.4"
  }
 },
 "nbformat": 4,
 "nbformat_minor": 2
}
